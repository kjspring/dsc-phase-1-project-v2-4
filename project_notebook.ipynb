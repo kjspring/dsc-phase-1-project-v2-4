{
 "cells": [
  {
   "cell_type": "markdown",
   "metadata": {},
   "source": [
    "# Final Project Submission\n",
    "\n",
    "* Student name: Kevin Spring\n",
    "* Student pace: self paced\n",
    "* Scheduled project review date/time: \n",
    "* Instructor name: Morgan Jones\n",
    "* Blog post URL: https://medium.com/@kevinjspring/microsoft-movie-studio-recommendations-955f1d266ab4\n"
   ]
  },
  {
   "cell_type": "markdown",
   "metadata": {},
   "source": [
    "# Introduction\n",
    "\n",
    "## Overview\n",
    "In 2021, digital, theatrical, and physical sales of movies were \\\\$136.5 billion globally and \\\\$36.8 billion in the United States. Digital sales account for 80% of revenue, theatrical sales are 12%, and physical media is the remaining 8%.\n",
    "\n",
    "Microsoft is creating a new movie studio and wants to know what types of movies they should create to tap into this industry. This project will explore what types of movies are currently doing the best at the box office and recommend what types of movies executives at Microsoft's movie studio should create.\n",
    "\n",
    "\n",
    "## Business Problem\n",
    "\n",
    "Microsoft is creating a new movie studio and wants to know what types of movies to make to be successful. Success can be measured with the amount of profit that the movie makes and the reputation as measured in viewer ranking.\n",
    "\n",
    "To be successful, Microsoft needs to know what movie genres have the highest ranking and profit, when these movies are released at the box office during the year, and how much should be budgeted for these movies.\n",
    "\n",
    "## Summary of Recommendations\n",
    "- Movie genre should be **action**, **adventure**, **animation**, or **science fiction**\n",
    "- The movie should be released in 2nd or 4th quarter of the year\n",
    "- The movie should have a budget of \\\\$60 million to \\\\$100 million\n",
    "\n",
    "\n"
   ]
  },
  {
   "cell_type": "markdown",
   "metadata": {},
   "source": [
    "# Data\n",
    "\n",
    "Microsoft's new movie studio wants to know what would be the best types of movies to make. To do this I will need to know the viewer ranking of movies, cost to make the movies, movies gross revenue, and release date."
   ]
  },
  {
   "cell_type": "markdown",
   "metadata": {},
   "source": [
    "# Data available\n",
    "\n",
    "- All data located in `./zippedData` folder\n",
    "- Internet Movie Database (IMDb)\n",
    "    - `im.db`\n",
    "    - SQLite database\n",
    "    - Contains IMDb user generated rankings\n",
    "- Box Office Mojo (BOM)\n",
    "    - `bom.movie_gross.csv.gz`\n",
    "    - domestic revenue (\\\\$USD)\n",
    "    - foreign revenue (\\\\$USD)\n",
    "- The Numbers (CSV)\n",
    "    - `tn.movie_budgets.csv.gz`\n",
    "    - production budget (\\\\$USD)\n"
   ]
  },
  {
   "cell_type": "code",
   "execution_count": 1,
   "metadata": {},
   "outputs": [],
   "source": [
    "# Import libraries\n",
    "import pandas as pd"
   ]
  },
  {
   "cell_type": "markdown",
   "metadata": {},
   "source": [
    "## Box Office Mojo (BOM) Data"
   ]
  },
  {
   "cell_type": "code",
   "execution_count": 2,
   "metadata": {},
   "outputs": [
    {
     "name": "stdout",
     "output_type": "stream",
     "text": [
      "<class 'pandas.core.frame.DataFrame'>\n",
      "RangeIndex: 3387 entries, 0 to 3386\n",
      "Data columns (total 5 columns):\n",
      " #   Column          Non-Null Count  Dtype  \n",
      "---  ------          --------------  -----  \n",
      " 0   title           3387 non-null   object \n",
      " 1   studio          3382 non-null   object \n",
      " 2   domestic_gross  3359 non-null   float64\n",
      " 3   foreign_gross   2037 non-null   object \n",
      " 4   year            3387 non-null   int64  \n",
      "dtypes: float64(1), int64(1), object(3)\n",
      "memory usage: 132.4+ KB\n"
     ]
    }
   ],
   "source": [
    "# Import data\n",
    "bom_df = pd.read_csv('zippedData/bom.movie_gross.csv.gz', header = 0)\n",
    "\n",
    "# Return top of Box Office Mojo Data\n",
    "bom_df.info()"
   ]
  },
  {
   "cell_type": "code",
   "execution_count": 3,
   "metadata": {},
   "outputs": [
    {
     "data": {
      "text/html": [
       "<div>\n",
       "<style scoped>\n",
       "    .dataframe tbody tr th:only-of-type {\n",
       "        vertical-align: middle;\n",
       "    }\n",
       "\n",
       "    .dataframe tbody tr th {\n",
       "        vertical-align: top;\n",
       "    }\n",
       "\n",
       "    .dataframe thead th {\n",
       "        text-align: right;\n",
       "    }\n",
       "</style>\n",
       "<table border=\"1\" class=\"dataframe\">\n",
       "  <thead>\n",
       "    <tr style=\"text-align: right;\">\n",
       "      <th></th>\n",
       "      <th>title</th>\n",
       "      <th>studio</th>\n",
       "      <th>domestic_gross</th>\n",
       "      <th>foreign_gross</th>\n",
       "      <th>year</th>\n",
       "    </tr>\n",
       "  </thead>\n",
       "  <tbody>\n",
       "    <tr>\n",
       "      <th>0</th>\n",
       "      <td>Toy Story 3</td>\n",
       "      <td>BV</td>\n",
       "      <td>415000000.0</td>\n",
       "      <td>652000000</td>\n",
       "      <td>2010</td>\n",
       "    </tr>\n",
       "    <tr>\n",
       "      <th>1</th>\n",
       "      <td>Alice in Wonderland (2010)</td>\n",
       "      <td>BV</td>\n",
       "      <td>334200000.0</td>\n",
       "      <td>691300000</td>\n",
       "      <td>2010</td>\n",
       "    </tr>\n",
       "    <tr>\n",
       "      <th>2</th>\n",
       "      <td>Harry Potter and the Deathly Hallows Part 1</td>\n",
       "      <td>WB</td>\n",
       "      <td>296000000.0</td>\n",
       "      <td>664300000</td>\n",
       "      <td>2010</td>\n",
       "    </tr>\n",
       "    <tr>\n",
       "      <th>3</th>\n",
       "      <td>Inception</td>\n",
       "      <td>WB</td>\n",
       "      <td>292600000.0</td>\n",
       "      <td>535700000</td>\n",
       "      <td>2010</td>\n",
       "    </tr>\n",
       "  </tbody>\n",
       "</table>\n",
       "</div>"
      ],
      "text/plain": [
       "                                         title studio  domestic_gross  \\\n",
       "0                                  Toy Story 3     BV     415000000.0   \n",
       "1                   Alice in Wonderland (2010)     BV     334200000.0   \n",
       "2  Harry Potter and the Deathly Hallows Part 1     WB     296000000.0   \n",
       "3                                    Inception     WB     292600000.0   \n",
       "\n",
       "  foreign_gross  year  \n",
       "0     652000000  2010  \n",
       "1     691300000  2010  \n",
       "2     664300000  2010  \n",
       "3     535700000  2010  "
      ]
     },
     "execution_count": 3,
     "metadata": {},
     "output_type": "execute_result"
    }
   ],
   "source": [
    "# Return top four rows in bom_df\n",
    "bom_df.head(4)"
   ]
  },
  {
   "cell_type": "markdown",
   "metadata": {},
   "source": [
    "### Data Discussion\n",
    "\n",
    "Box Office Mojo (BOM) has information about gross revenue with 3359 non-null domestic gross revenue and 2037 foreign non-null gross revenue.\n",
    "\n",
    "`domestic_gross` is listed as a `float` data type but `foreign_gross` is not and likely has `string` data types within this column. I will need to find the `string` data in the `foreign_gross` column and convert it to a numerical data type."
   ]
  },
  {
   "cell_type": "markdown",
   "metadata": {},
   "source": [
    "## The Numbers Database (TNDB) Data"
   ]
  },
  {
   "cell_type": "code",
   "execution_count": 4,
   "metadata": {},
   "outputs": [
    {
     "name": "stdout",
     "output_type": "stream",
     "text": [
      "<class 'pandas.core.frame.DataFrame'>\n",
      "RangeIndex: 5782 entries, 0 to 5781\n",
      "Data columns (total 6 columns):\n",
      " #   Column             Non-Null Count  Dtype \n",
      "---  ------             --------------  ----- \n",
      " 0   id                 5782 non-null   int64 \n",
      " 1   release_date       5782 non-null   object\n",
      " 2   movie              5782 non-null   object\n",
      " 3   production_budget  5782 non-null   object\n",
      " 4   domestic_gross     5782 non-null   object\n",
      " 5   worldwide_gross    5782 non-null   object\n",
      "dtypes: int64(1), object(5)\n",
      "memory usage: 271.2+ KB\n"
     ]
    }
   ],
   "source": [
    "# import data\n",
    "tndb_df = pd.read_csv('zippedData/tn.movie_budgets.csv.gz', header = 0)\n",
    "\n",
    "tndb_df.info()"
   ]
  },
  {
   "cell_type": "code",
   "execution_count": 5,
   "metadata": {},
   "outputs": [
    {
     "data": {
      "text/html": [
       "<div>\n",
       "<style scoped>\n",
       "    .dataframe tbody tr th:only-of-type {\n",
       "        vertical-align: middle;\n",
       "    }\n",
       "\n",
       "    .dataframe tbody tr th {\n",
       "        vertical-align: top;\n",
       "    }\n",
       "\n",
       "    .dataframe thead th {\n",
       "        text-align: right;\n",
       "    }\n",
       "</style>\n",
       "<table border=\"1\" class=\"dataframe\">\n",
       "  <thead>\n",
       "    <tr style=\"text-align: right;\">\n",
       "      <th></th>\n",
       "      <th>id</th>\n",
       "      <th>release_date</th>\n",
       "      <th>movie</th>\n",
       "      <th>production_budget</th>\n",
       "      <th>domestic_gross</th>\n",
       "      <th>worldwide_gross</th>\n",
       "    </tr>\n",
       "  </thead>\n",
       "  <tbody>\n",
       "    <tr>\n",
       "      <th>0</th>\n",
       "      <td>1</td>\n",
       "      <td>Dec 18, 2009</td>\n",
       "      <td>Avatar</td>\n",
       "      <td>$425,000,000</td>\n",
       "      <td>$760,507,625</td>\n",
       "      <td>$2,776,345,279</td>\n",
       "    </tr>\n",
       "    <tr>\n",
       "      <th>1</th>\n",
       "      <td>2</td>\n",
       "      <td>May 20, 2011</td>\n",
       "      <td>Pirates of the Caribbean: On Stranger Tides</td>\n",
       "      <td>$410,600,000</td>\n",
       "      <td>$241,063,875</td>\n",
       "      <td>$1,045,663,875</td>\n",
       "    </tr>\n",
       "    <tr>\n",
       "      <th>2</th>\n",
       "      <td>3</td>\n",
       "      <td>Jun 7, 2019</td>\n",
       "      <td>Dark Phoenix</td>\n",
       "      <td>$350,000,000</td>\n",
       "      <td>$42,762,350</td>\n",
       "      <td>$149,762,350</td>\n",
       "    </tr>\n",
       "    <tr>\n",
       "      <th>3</th>\n",
       "      <td>4</td>\n",
       "      <td>May 1, 2015</td>\n",
       "      <td>Avengers: Age of Ultron</td>\n",
       "      <td>$330,600,000</td>\n",
       "      <td>$459,005,868</td>\n",
       "      <td>$1,403,013,963</td>\n",
       "    </tr>\n",
       "  </tbody>\n",
       "</table>\n",
       "</div>"
      ],
      "text/plain": [
       "   id  release_date                                        movie  \\\n",
       "0   1  Dec 18, 2009                                       Avatar   \n",
       "1   2  May 20, 2011  Pirates of the Caribbean: On Stranger Tides   \n",
       "2   3   Jun 7, 2019                                 Dark Phoenix   \n",
       "3   4   May 1, 2015                      Avengers: Age of Ultron   \n",
       "\n",
       "  production_budget domestic_gross worldwide_gross  \n",
       "0      $425,000,000   $760,507,625  $2,776,345,279  \n",
       "1      $410,600,000   $241,063,875  $1,045,663,875  \n",
       "2      $350,000,000    $42,762,350    $149,762,350  \n",
       "3      $330,600,000   $459,005,868  $1,403,013,963  "
      ]
     },
     "execution_count": 5,
     "metadata": {},
     "output_type": "execute_result"
    }
   ],
   "source": [
    "tndb_df.head(4)"
   ]
  },
  {
   "cell_type": "markdown",
   "metadata": {},
   "source": [
    "### Data Discussion\n",
    "\n",
    "TNDB contains information on movie budget, release date, and domestic and worldwide revenue. The budget is listed as a produciton budget but this does not include the marketing budget. The Numbers database has 5,782 non-null values which indicates it may have placeholder values replacing missing values.\n",
    "\n",
    "`production_budget`, `domestic_gross`, and `worldwide_gross` all are in `string` data type with dollar signs (\\\\$) and commas (,) in the string. I will be using the revenue data from BOM and not TNDB so `domestic_gross` and `worldwide_gross` can be dropped and only the `produciton_budget` data will need to be cleaned. TNDB's gross revenue data may need to be used in the event of missing values in BOM's `domestic_gross` or `foreign_gross` columns."
   ]
  },
  {
   "attachments": {
    "imdb_movie_data_erd.jpeg": {
     "image/jpeg": "[encoded data removed]"
    }
   },
   "cell_type": "markdown",
   "metadata": {},
   "source": [
    "## Internet Movie Database (IMDb) data\n",
    "\n",
    "This data is contained in a SQLite database with 7 tables. From the ERD I will be using the tables `movie_basics` and `movie_ratings` which contains the title of the movie, ratings, genre, and runtime.\n",
    "\n",
    "<div style=\"max-width:600px;margin-left: auto; margin-left: 0;\">\n",
    "    \n",
    "![imdb_movie_data_erd.jpeg](attachment:imdb_movie_data_erd.jpeg)\n",
    "    \n",
    "</div>"
   ]
  },
  {
   "cell_type": "code",
   "execution_count": 6,
   "metadata": {},
   "outputs": [
    {
     "name": "stdout",
     "output_type": "stream",
     "text": [
      "<class 'pandas.core.frame.DataFrame'>\n",
      "RangeIndex: 73856 entries, 0 to 73855\n",
      "Data columns (total 8 columns):\n",
      " #   Column           Non-Null Count  Dtype  \n",
      "---  ------           --------------  -----  \n",
      " 0   movie_id         73856 non-null  object \n",
      " 1   primary_title    73856 non-null  object \n",
      " 2   original_title   73856 non-null  object \n",
      " 3   start_year       73856 non-null  int64  \n",
      " 4   runtime_minutes  66236 non-null  float64\n",
      " 5   genres           73052 non-null  object \n",
      " 6   averagerating    73856 non-null  float64\n",
      " 7   numvotes         73856 non-null  int64  \n",
      "dtypes: float64(2), int64(2), object(4)\n",
      "memory usage: 4.5+ MB\n"
     ]
    }
   ],
   "source": [
    "# Make connection to SQLite database\n",
    "import sqlite3\n",
    "\n",
    "# will join 2 tables movie_basics and movie_ratings\n",
    "conn = sqlite3.connect('zippedData/imdb.sqlite')\n",
    "cur = conn.cursor()\n",
    "q = '''\n",
    "        SELECT *\n",
    "        FROM movie_basics\n",
    "        INNER JOIN movie_ratings\n",
    "             USING(movie_id);\n",
    "'''\n",
    "imdb_df  = pd.read_sql_query(q, conn)\n",
    "imdb_df.info()\n",
    "\n",
    "conn.close()"
   ]
  },
  {
   "cell_type": "code",
   "execution_count": 7,
   "metadata": {},
   "outputs": [
    {
     "data": {
      "text/html": [
       "<div>\n",
       "<style scoped>\n",
       "    .dataframe tbody tr th:only-of-type {\n",
       "        vertical-align: middle;\n",
       "    }\n",
       "\n",
       "    .dataframe tbody tr th {\n",
       "        vertical-align: top;\n",
       "    }\n",
       "\n",
       "    .dataframe thead th {\n",
       "        text-align: right;\n",
       "    }\n",
       "</style>\n",
       "<table border=\"1\" class=\"dataframe\">\n",
       "  <thead>\n",
       "    <tr style=\"text-align: right;\">\n",
       "      <th></th>\n",
       "      <th>movie_id</th>\n",
       "      <th>primary_title</th>\n",
       "      <th>original_title</th>\n",
       "      <th>start_year</th>\n",
       "      <th>runtime_minutes</th>\n",
       "      <th>genres</th>\n",
       "      <th>averagerating</th>\n",
       "      <th>numvotes</th>\n",
       "    </tr>\n",
       "  </thead>\n",
       "  <tbody>\n",
       "    <tr>\n",
       "      <th>0</th>\n",
       "      <td>tt0063540</td>\n",
       "      <td>Sunghursh</td>\n",
       "      <td>Sunghursh</td>\n",
       "      <td>2013</td>\n",
       "      <td>175.0</td>\n",
       "      <td>Action,Crime,Drama</td>\n",
       "      <td>7.0</td>\n",
       "      <td>77</td>\n",
       "    </tr>\n",
       "    <tr>\n",
       "      <th>1</th>\n",
       "      <td>tt0066787</td>\n",
       "      <td>One Day Before the Rainy Season</td>\n",
       "      <td>Ashad Ka Ek Din</td>\n",
       "      <td>2019</td>\n",
       "      <td>114.0</td>\n",
       "      <td>Biography,Drama</td>\n",
       "      <td>7.2</td>\n",
       "      <td>43</td>\n",
       "    </tr>\n",
       "    <tr>\n",
       "      <th>2</th>\n",
       "      <td>tt0069049</td>\n",
       "      <td>The Other Side of the Wind</td>\n",
       "      <td>The Other Side of the Wind</td>\n",
       "      <td>2018</td>\n",
       "      <td>122.0</td>\n",
       "      <td>Drama</td>\n",
       "      <td>6.9</td>\n",
       "      <td>4517</td>\n",
       "    </tr>\n",
       "    <tr>\n",
       "      <th>3</th>\n",
       "      <td>tt0069204</td>\n",
       "      <td>Sabse Bada Sukh</td>\n",
       "      <td>Sabse Bada Sukh</td>\n",
       "      <td>2018</td>\n",
       "      <td>NaN</td>\n",
       "      <td>Comedy,Drama</td>\n",
       "      <td>6.1</td>\n",
       "      <td>13</td>\n",
       "    </tr>\n",
       "  </tbody>\n",
       "</table>\n",
       "</div>"
      ],
      "text/plain": [
       "    movie_id                    primary_title              original_title  \\\n",
       "0  tt0063540                        Sunghursh                   Sunghursh   \n",
       "1  tt0066787  One Day Before the Rainy Season             Ashad Ka Ek Din   \n",
       "2  tt0069049       The Other Side of the Wind  The Other Side of the Wind   \n",
       "3  tt0069204                  Sabse Bada Sukh             Sabse Bada Sukh   \n",
       "\n",
       "   start_year  runtime_minutes              genres  averagerating  numvotes  \n",
       "0        2013            175.0  Action,Crime,Drama            7.0        77  \n",
       "1        2019            114.0     Biography,Drama            7.2        43  \n",
       "2        2018            122.0               Drama            6.9      4517  \n",
       "3        2018              NaN        Comedy,Drama            6.1        13  "
      ]
     },
     "execution_count": 7,
     "metadata": {},
     "output_type": "execute_result"
    }
   ],
   "source": [
    "imdb_df.head(4)"
   ]
  },
  {
   "cell_type": "markdown",
   "metadata": {},
   "source": [
    "### Data Discussion\n",
    "\n",
    "IMDb contains the average viewer ranking in the `averagerating` column and genre in the `genres` column. There are 804 null values stored in the `genres` column so I will remove the records with these null values before joining the dataframes. This dataframe contains 73,856 records but many of them will be dropped when joining with the `tndb_df` and `bom_df` dataframes as BOM and TNDB have far less records."
   ]
  },
  {
   "cell_type": "markdown",
   "metadata": {},
   "source": [
    "# Process\n",
    "\n",
    "In this step of the analysis I will join and clean the raw data of `tndb_df`, `bom_df`, and `imdb_df`.\n",
    "\n",
    "## Processing Steps\n",
    "1. Discover and remove duplicates\n",
    "2. Join duplicate free `tndb_df`, `bom_df`, and `imdb_df` \n",
    "3. Find and correct missing values (NaN)\n",
    "    - Replace missing `foreign_gross` and `domestic_gross_y` from the BOM data with TNDB's data\n",
    "4. Check for placeholders of missing values\n",
    "5. Remove irrelevant columns\n",
    "6. Calculate worldwide gross revenue \n",
    "7. Convert single string in `genre` column to a list of genre strings"
   ]
  },
  {
   "cell_type": "markdown",
   "metadata": {},
   "source": [
    "\n",
    "### 1. Find and Correct Duplicated Entries"
   ]
  },
  {
   "cell_type": "code",
   "execution_count": 8,
   "metadata": {},
   "outputs": [
    {
     "name": "stdout",
     "output_type": "stream",
     "text": [
      "IMDB\n",
      "Duplicated records:  585\n",
      "\n",
      "BOM\n",
      "Duplicated records:  0\n",
      "\n",
      "TNDB\n",
      "Duplicated records:  0\n"
     ]
    }
   ],
   "source": [
    "# Look for duplicates\n",
    "# IMDB\n",
    "print(\"IMDB\")\n",
    "print(\"Duplicated records: \", imdb_df.duplicated(['primary_title', 'start_year']).sum())\n",
    "\n",
    "# BOM\n",
    "print(\"\\nBOM\")\n",
    "print(\"Duplicated records: \", bom_df.duplicated(['title','year']).sum())\n",
    "\n",
    "# TNDB\n",
    "print(\"\\nTNDB\")\n",
    "print(\"Duplicated records: \", tndb_df.duplicated(['movie', 'release_date']).sum())"
   ]
  },
  {
   "cell_type": "markdown",
   "metadata": {},
   "source": [
    "The dataframes `imdb_df`, `bom_df`, and `tndb_df` will be joined based on the movie title and year of release. Dupilicated entries titles and year of release could be a problem if the data between the dataframes are joined on the incorrect records. There are no duplicated entries in `tndb_df` on columns `movie` and `release_date` or in `bom_df` on columns `title` and `year`. `imdb_df` has 585 duplicate records based on columns `primary_title` and `start_year`."
   ]
  },
  {
   "cell_type": "code",
   "execution_count": 9,
   "metadata": {
    "scrolled": true
   },
   "outputs": [
    {
     "data": {
      "text/html": [
       "<div>\n",
       "<style scoped>\n",
       "    .dataframe tbody tr th:only-of-type {\n",
       "        vertical-align: middle;\n",
       "    }\n",
       "\n",
       "    .dataframe tbody tr th {\n",
       "        vertical-align: top;\n",
       "    }\n",
       "\n",
       "    .dataframe thead th {\n",
       "        text-align: right;\n",
       "    }\n",
       "</style>\n",
       "<table border=\"1\" class=\"dataframe\">\n",
       "  <thead>\n",
       "    <tr style=\"text-align: right;\">\n",
       "      <th></th>\n",
       "      <th>movie_id</th>\n",
       "      <th>primary_title</th>\n",
       "      <th>original_title</th>\n",
       "      <th>start_year</th>\n",
       "      <th>runtime_minutes</th>\n",
       "      <th>genres</th>\n",
       "      <th>averagerating</th>\n",
       "      <th>numvotes</th>\n",
       "    </tr>\n",
       "  </thead>\n",
       "  <tbody>\n",
       "    <tr>\n",
       "      <th>50177</th>\n",
       "      <td>tt4972582</td>\n",
       "      <td>Split</td>\n",
       "      <td>Split</td>\n",
       "      <td>2016</td>\n",
       "      <td>117.0</td>\n",
       "      <td>Horror,Thriller</td>\n",
       "      <td>7.3</td>\n",
       "      <td>358543</td>\n",
       "    </tr>\n",
       "    <tr>\n",
       "      <th>14635</th>\n",
       "      <td>tt1980929</td>\n",
       "      <td>Begin Again</td>\n",
       "      <td>Begin Again</td>\n",
       "      <td>2013</td>\n",
       "      <td>104.0</td>\n",
       "      <td>Comedy,Drama,Music</td>\n",
       "      <td>7.4</td>\n",
       "      <td>129884</td>\n",
       "    </tr>\n",
       "    <tr>\n",
       "      <th>36580</th>\n",
       "      <td>tt3488710</td>\n",
       "      <td>The Walk</td>\n",
       "      <td>The Walk</td>\n",
       "      <td>2015</td>\n",
       "      <td>123.0</td>\n",
       "      <td>Adventure,Biography,Drama</td>\n",
       "      <td>7.3</td>\n",
       "      <td>109714</td>\n",
       "    </tr>\n",
       "    <tr>\n",
       "      <th>44600</th>\n",
       "      <td>tt4287320</td>\n",
       "      <td>The Circle</td>\n",
       "      <td>The Circle</td>\n",
       "      <td>2017</td>\n",
       "      <td>110.0</td>\n",
       "      <td>Drama,Sci-Fi,Thriller</td>\n",
       "      <td>5.3</td>\n",
       "      <td>72536</td>\n",
       "    </tr>\n",
       "    <tr>\n",
       "      <th>31646</th>\n",
       "      <td>tt3064298</td>\n",
       "      <td>Man Up</td>\n",
       "      <td>Man Up</td>\n",
       "      <td>2015</td>\n",
       "      <td>88.0</td>\n",
       "      <td>Comedy,Drama,Romance</td>\n",
       "      <td>6.8</td>\n",
       "      <td>44338</td>\n",
       "    </tr>\n",
       "    <tr>\n",
       "      <th>2152</th>\n",
       "      <td>tt1336617</td>\n",
       "      <td>Cyrus</td>\n",
       "      <td>Cyrus</td>\n",
       "      <td>2010</td>\n",
       "      <td>91.0</td>\n",
       "      <td>Comedy,Drama,Romance</td>\n",
       "      <td>6.3</td>\n",
       "      <td>32457</td>\n",
       "    </tr>\n",
       "    <tr>\n",
       "      <th>54898</th>\n",
       "      <td>tt5571734</td>\n",
       "      <td>Pink</td>\n",
       "      <td>Pink</td>\n",
       "      <td>2016</td>\n",
       "      <td>136.0</td>\n",
       "      <td>Drama,Thriller</td>\n",
       "      <td>8.2</td>\n",
       "      <td>32238</td>\n",
       "    </tr>\n",
       "    <tr>\n",
       "      <th>46025</th>\n",
       "      <td>tt4463816</td>\n",
       "      <td>Terminal</td>\n",
       "      <td>Terminal</td>\n",
       "      <td>2018</td>\n",
       "      <td>95.0</td>\n",
       "      <td>Crime,Drama,Thriller</td>\n",
       "      <td>5.3</td>\n",
       "      <td>14359</td>\n",
       "    </tr>\n",
       "    <tr>\n",
       "      <th>45221</th>\n",
       "      <td>tt4359416</td>\n",
       "      <td>Taxi</td>\n",
       "      <td>Taxi</td>\n",
       "      <td>2015</td>\n",
       "      <td>82.0</td>\n",
       "      <td>Comedy,Drama</td>\n",
       "      <td>7.3</td>\n",
       "      <td>11870</td>\n",
       "    </tr>\n",
       "    <tr>\n",
       "      <th>40053</th>\n",
       "      <td>tt3802576</td>\n",
       "      <td>Brothers</td>\n",
       "      <td>Brothers</td>\n",
       "      <td>2015</td>\n",
       "      <td>156.0</td>\n",
       "      <td>Action,Drama,Sport</td>\n",
       "      <td>6.7</td>\n",
       "      <td>10689</td>\n",
       "    </tr>\n",
       "  </tbody>\n",
       "</table>\n",
       "</div>"
      ],
      "text/plain": [
       "        movie_id primary_title original_title  start_year  runtime_minutes  \\\n",
       "50177  tt4972582         Split          Split        2016            117.0   \n",
       "14635  tt1980929   Begin Again    Begin Again        2013            104.0   \n",
       "36580  tt3488710      The Walk       The Walk        2015            123.0   \n",
       "44600  tt4287320    The Circle     The Circle        2017            110.0   \n",
       "31646  tt3064298        Man Up         Man Up        2015             88.0   \n",
       "2152   tt1336617         Cyrus          Cyrus        2010             91.0   \n",
       "54898  tt5571734          Pink           Pink        2016            136.0   \n",
       "46025  tt4463816      Terminal       Terminal        2018             95.0   \n",
       "45221  tt4359416          Taxi           Taxi        2015             82.0   \n",
       "40053  tt3802576      Brothers       Brothers        2015            156.0   \n",
       "\n",
       "                          genres  averagerating  numvotes  \n",
       "50177            Horror,Thriller            7.3    358543  \n",
       "14635         Comedy,Drama,Music            7.4    129884  \n",
       "36580  Adventure,Biography,Drama            7.3    109714  \n",
       "44600      Drama,Sci-Fi,Thriller            5.3     72536  \n",
       "31646       Comedy,Drama,Romance            6.8     44338  \n",
       "2152        Comedy,Drama,Romance            6.3     32457  \n",
       "54898             Drama,Thriller            8.2     32238  \n",
       "46025       Crime,Drama,Thriller            5.3     14359  \n",
       "45221               Comedy,Drama            7.3     11870  \n",
       "40053         Action,Drama,Sport            6.7     10689  "
      ]
     },
     "execution_count": 9,
     "metadata": {},
     "output_type": "execute_result"
    }
   ],
   "source": [
    "# diplay subset of IMDb duplicated records ordered by number of votes\n",
    "imdb_df[imdb_df.duplicated(['primary_title', 'start_year'])].sort_values(['numvotes'], ascending = [False]).head(10)"
   ]
  },
  {
   "cell_type": "code",
   "execution_count": 10,
   "metadata": {},
   "outputs": [
    {
     "data": {
      "text/html": [
       "<div>\n",
       "<style scoped>\n",
       "    .dataframe tbody tr th:only-of-type {\n",
       "        vertical-align: middle;\n",
       "    }\n",
       "\n",
       "    .dataframe tbody tr th {\n",
       "        vertical-align: top;\n",
       "    }\n",
       "\n",
       "    .dataframe thead th {\n",
       "        text-align: right;\n",
       "    }\n",
       "</style>\n",
       "<table border=\"1\" class=\"dataframe\">\n",
       "  <thead>\n",
       "    <tr style=\"text-align: right;\">\n",
       "      <th></th>\n",
       "      <th>movie_id</th>\n",
       "      <th>primary_title</th>\n",
       "      <th>original_title</th>\n",
       "      <th>start_year</th>\n",
       "      <th>runtime_minutes</th>\n",
       "      <th>genres</th>\n",
       "      <th>averagerating</th>\n",
       "      <th>numvotes</th>\n",
       "    </tr>\n",
       "  </thead>\n",
       "  <tbody>\n",
       "    <tr>\n",
       "      <th>2081</th>\n",
       "      <td>tt1327709</td>\n",
       "      <td>Cyrus</td>\n",
       "      <td>Cyrus</td>\n",
       "      <td>2010</td>\n",
       "      <td>87.0</td>\n",
       "      <td>Crime,Horror,Mystery</td>\n",
       "      <td>4.7</td>\n",
       "      <td>944</td>\n",
       "    </tr>\n",
       "    <tr>\n",
       "      <th>2152</th>\n",
       "      <td>tt1336617</td>\n",
       "      <td>Cyrus</td>\n",
       "      <td>Cyrus</td>\n",
       "      <td>2010</td>\n",
       "      <td>91.0</td>\n",
       "      <td>Comedy,Drama,Romance</td>\n",
       "      <td>6.3</td>\n",
       "      <td>32457</td>\n",
       "    </tr>\n",
       "  </tbody>\n",
       "</table>\n",
       "</div>"
      ],
      "text/plain": [
       "       movie_id primary_title original_title  start_year  runtime_minutes  \\\n",
       "2081  tt1327709         Cyrus          Cyrus        2010             87.0   \n",
       "2152  tt1336617         Cyrus          Cyrus        2010             91.0   \n",
       "\n",
       "                    genres  averagerating  numvotes  \n",
       "2081  Crime,Horror,Mystery            4.7       944  \n",
       "2152  Comedy,Drama,Romance            6.3     32457  "
      ]
     },
     "execution_count": 10,
     "metadata": {},
     "output_type": "execute_result"
    }
   ],
   "source": [
    "# Focus on the movie 'Cyrus'\n",
    "imdb_df[(imdb_df['primary_title'] == 'Cyrus') & (imdb_df['start_year'] == 2010)]"
   ]
  },
  {
   "cell_type": "code",
   "execution_count": 11,
   "metadata": {},
   "outputs": [
    {
     "data": {
      "text/html": [
       "<div>\n",
       "<style scoped>\n",
       "    .dataframe tbody tr th:only-of-type {\n",
       "        vertical-align: middle;\n",
       "    }\n",
       "\n",
       "    .dataframe tbody tr th {\n",
       "        vertical-align: top;\n",
       "    }\n",
       "\n",
       "    .dataframe thead th {\n",
       "        text-align: right;\n",
       "    }\n",
       "</style>\n",
       "<table border=\"1\" class=\"dataframe\">\n",
       "  <thead>\n",
       "    <tr style=\"text-align: right;\">\n",
       "      <th></th>\n",
       "      <th>title</th>\n",
       "      <th>studio</th>\n",
       "      <th>domestic_gross</th>\n",
       "      <th>foreign_gross</th>\n",
       "      <th>year</th>\n",
       "    </tr>\n",
       "  </thead>\n",
       "  <tbody>\n",
       "    <tr>\n",
       "      <th>171</th>\n",
       "      <td>Cyrus</td>\n",
       "      <td>FoxS</td>\n",
       "      <td>7500000.0</td>\n",
       "      <td>2500000</td>\n",
       "      <td>2010</td>\n",
       "    </tr>\n",
       "  </tbody>\n",
       "</table>\n",
       "</div>"
      ],
      "text/plain": [
       "     title studio  domestic_gross foreign_gross  year\n",
       "171  Cyrus   FoxS       7500000.0       2500000  2010"
      ]
     },
     "execution_count": 11,
     "metadata": {},
     "output_type": "execute_result"
    }
   ],
   "source": [
    "# Is this movie found in the BOM data?\n",
    "bom_df[bom_df['title'] == 'Cyrus']"
   ]
  },
  {
   "cell_type": "code",
   "execution_count": 12,
   "metadata": {},
   "outputs": [
    {
     "data": {
      "text/html": [
       "<div>\n",
       "<style scoped>\n",
       "    .dataframe tbody tr th:only-of-type {\n",
       "        vertical-align: middle;\n",
       "    }\n",
       "\n",
       "    .dataframe tbody tr th {\n",
       "        vertical-align: top;\n",
       "    }\n",
       "\n",
       "    .dataframe thead th {\n",
       "        text-align: right;\n",
       "    }\n",
       "</style>\n",
       "<table border=\"1\" class=\"dataframe\">\n",
       "  <thead>\n",
       "    <tr style=\"text-align: right;\">\n",
       "      <th></th>\n",
       "      <th>id</th>\n",
       "      <th>release_date</th>\n",
       "      <th>movie</th>\n",
       "      <th>production_budget</th>\n",
       "      <th>domestic_gross</th>\n",
       "      <th>worldwide_gross</th>\n",
       "    </tr>\n",
       "  </thead>\n",
       "  <tbody>\n",
       "    <tr>\n",
       "      <th>4026</th>\n",
       "      <td>27</td>\n",
       "      <td>Jun 18, 2010</td>\n",
       "      <td>Cyrus</td>\n",
       "      <td>$7,000,000</td>\n",
       "      <td>$7,468,936</td>\n",
       "      <td>$10,062,896</td>\n",
       "    </tr>\n",
       "  </tbody>\n",
       "</table>\n",
       "</div>"
      ],
      "text/plain": [
       "      id  release_date  movie production_budget domestic_gross worldwide_gross\n",
       "4026  27  Jun 18, 2010  Cyrus        $7,000,000     $7,468,936     $10,062,896"
      ]
     },
     "execution_count": 12,
     "metadata": {},
     "output_type": "execute_result"
    }
   ],
   "source": [
    "# Is this movie found in the TNDB data?\n",
    "tndb_df[tndb_df['movie'] == 'Cyrus']"
   ]
  },
  {
   "cell_type": "markdown",
   "metadata": {},
   "source": [
    "#### Remove duplicated data\n",
    "`imdb_df` contains 585 duplicated records based on the `primary_title` and `start_year`. I will be joining the data on these two columns. `bom_df` and `tndb_df` have ten times less records than `imdb_df` so much of the data from IMDB will not be included in this analysis. One way to remove duplicated entries is to keep the record with the highest number of votes as recorded in `numvotes` column as the less known movies with the same name and release year will likely not be represented in the BOM and TNDB data.\n",
    "\n",
    "The IMDb data without duplicate movie title and year of released will be saved as `imdb_df_filtered`."
   ]
  },
  {
   "cell_type": "code",
   "execution_count": 13,
   "metadata": {},
   "outputs": [
    {
     "name": "stdout",
     "output_type": "stream",
     "text": [
      "Number of duplicated movie title and year of release 0\n"
     ]
    },
    {
     "data": {
      "text/html": [
       "<div>\n",
       "<style scoped>\n",
       "    .dataframe tbody tr th:only-of-type {\n",
       "        vertical-align: middle;\n",
       "    }\n",
       "\n",
       "    .dataframe tbody tr th {\n",
       "        vertical-align: top;\n",
       "    }\n",
       "\n",
       "    .dataframe thead th {\n",
       "        text-align: right;\n",
       "    }\n",
       "</style>\n",
       "<table border=\"1\" class=\"dataframe\">\n",
       "  <thead>\n",
       "    <tr style=\"text-align: right;\">\n",
       "      <th></th>\n",
       "      <th>movie_id</th>\n",
       "      <th>primary_title</th>\n",
       "      <th>original_title</th>\n",
       "      <th>start_year</th>\n",
       "      <th>runtime_minutes</th>\n",
       "      <th>genres</th>\n",
       "      <th>averagerating</th>\n",
       "      <th>numvotes</th>\n",
       "    </tr>\n",
       "  </thead>\n",
       "  <tbody>\n",
       "    <tr>\n",
       "      <th>2152</th>\n",
       "      <td>tt1336617</td>\n",
       "      <td>Cyrus</td>\n",
       "      <td>Cyrus</td>\n",
       "      <td>2010</td>\n",
       "      <td>91.0</td>\n",
       "      <td>Comedy,Drama,Romance</td>\n",
       "      <td>6.3</td>\n",
       "      <td>32457</td>\n",
       "    </tr>\n",
       "  </tbody>\n",
       "</table>\n",
       "</div>"
      ],
      "text/plain": [
       "       movie_id primary_title original_title  start_year  runtime_minutes  \\\n",
       "2152  tt1336617         Cyrus          Cyrus        2010             91.0   \n",
       "\n",
       "                    genres  averagerating  numvotes  \n",
       "2152  Comedy,Drama,Romance            6.3     32457  "
      ]
     },
     "execution_count": 13,
     "metadata": {},
     "output_type": "execute_result"
    }
   ],
   "source": [
    "# Create a new dataframe that filters out the duplicated records\n",
    "imdb_df_filtered = imdb_df.sort_values(['numvotes']).drop_duplicates(['primary_title', 'start_year'], keep = 'last')\n",
    "\n",
    "# Print check to see how many duplicates left\n",
    "print('Number of duplicated movie title and year of release', len(imdb_df_filtered[imdb_df_filtered.duplicated(['primary_title', 'start_year'])]))\n",
    "\n",
    "# Check the movie 'Cyrus' again to make sure it has no duplicates in the new dataframe\n",
    "imdb_df_filtered[imdb_df_filtered['primary_title'] == 'Cyrus']"
   ]
  },
  {
   "cell_type": "markdown",
   "metadata": {},
   "source": [
    "#### IMDB Data Discussion\n",
    "All duplicated entries were removed and the record with the highest `numvotes` was kept."
   ]
  },
  {
   "cell_type": "markdown",
   "metadata": {},
   "source": [
    "### 2. Join Dataframes\n",
    "`tndb_df`, `bom_df`, and `imdb_df_filtered` will be joined based on the movie's title and year of release.\n",
    "\n",
    "- `tndb_df` (TNDB data)\n",
    "   - `movie`: Movie title in `string` datatype\n",
    "   - `release_date`: Release date in format: \"Mon day, Year\" `string` datatype\n",
    "- `bom_df` (BOM data)\n",
    "   - `title`: Movie title\n",
    "   - `year`: Year of release in `string` datatype\n",
    "- `imdb_df_filtered` (IMDb data)\n",
    "    - `primary_title`: Movie title\n",
    "    - `start_year`: Year of release in `string` datatype\n",
    "    \n",
    "TNDB's `release_date` needs to be converted to `datetime64` data type and then the year stored in a new column for all the dataframes to be joined together correctly."
   ]
  },
  {
   "cell_type": "code",
   "execution_count": 14,
   "metadata": {},
   "outputs": [
    {
     "name": "stdout",
     "output_type": "stream",
     "text": [
      "<class 'pandas.core.frame.DataFrame'>\n",
      "RangeIndex: 5782 entries, 0 to 5781\n",
      "Data columns (total 7 columns):\n",
      " #   Column             Non-Null Count  Dtype         \n",
      "---  ------             --------------  -----         \n",
      " 0   id                 5782 non-null   int64         \n",
      " 1   release_date       5782 non-null   datetime64[ns]\n",
      " 2   movie              5782 non-null   object        \n",
      " 3   production_budget  5782 non-null   object        \n",
      " 4   domestic_gross     5782 non-null   object        \n",
      " 5   worldwide_gross    5782 non-null   object        \n",
      " 6   tndb_year          5782 non-null   int64         \n",
      "dtypes: datetime64[ns](1), int64(2), object(4)\n",
      "memory usage: 316.3+ KB\n"
     ]
    }
   ],
   "source": [
    "# Convert release_date to datetime64, extract year, and store in a new column\n",
    "# Copy TNDB dataframe to clean\n",
    "tndb_df_fixdate = tndb_df.copy()\n",
    "\n",
    "# Convert string date to datetime\n",
    "tndb_df_fixdate['release_date'] = pd.to_datetime(tndb_df['release_date'], format='%b %d, %Y')\n",
    "\n",
    "# Create a new column with year called `tndb_year`\n",
    "tndb_df_fixdate['tndb_year'] = tndb_df_fixdate['release_date'].apply(lambda x: int(x.strftime('%Y')))\n",
    "tndb_df_fixdate.info()"
   ]
  },
  {
   "cell_type": "code",
   "execution_count": 15,
   "metadata": {},
   "outputs": [
    {
     "name": "stdout",
     "output_type": "stream",
     "text": [
      "Total records in joined TNDB and BOM 1215\n"
     ]
    },
    {
     "data": {
      "text/html": [
       "<div>\n",
       "<style scoped>\n",
       "    .dataframe tbody tr th:only-of-type {\n",
       "        vertical-align: middle;\n",
       "    }\n",
       "\n",
       "    .dataframe tbody tr th {\n",
       "        vertical-align: top;\n",
       "    }\n",
       "\n",
       "    .dataframe thead th {\n",
       "        text-align: right;\n",
       "    }\n",
       "</style>\n",
       "<table border=\"1\" class=\"dataframe\">\n",
       "  <thead>\n",
       "    <tr style=\"text-align: right;\">\n",
       "      <th></th>\n",
       "      <th>id</th>\n",
       "      <th>release_date</th>\n",
       "      <th>movie</th>\n",
       "      <th>production_budget</th>\n",
       "      <th>domestic_gross_x</th>\n",
       "      <th>worldwide_gross</th>\n",
       "      <th>tndb_year</th>\n",
       "      <th>title</th>\n",
       "      <th>studio</th>\n",
       "      <th>domestic_gross_y</th>\n",
       "      <th>foreign_gross</th>\n",
       "      <th>year</th>\n",
       "    </tr>\n",
       "  </thead>\n",
       "  <tbody>\n",
       "    <tr>\n",
       "      <th>0</th>\n",
       "      <td>2</td>\n",
       "      <td>2011-05-20</td>\n",
       "      <td>Pirates of the Caribbean: On Stranger Tides</td>\n",
       "      <td>$410,600,000</td>\n",
       "      <td>$241,063,875</td>\n",
       "      <td>$1,045,663,875</td>\n",
       "      <td>2011</td>\n",
       "      <td>Pirates of the Caribbean: On Stranger Tides</td>\n",
       "      <td>BV</td>\n",
       "      <td>241100000.0</td>\n",
       "      <td>804600000</td>\n",
       "      <td>2011</td>\n",
       "    </tr>\n",
       "    <tr>\n",
       "      <th>1</th>\n",
       "      <td>4</td>\n",
       "      <td>2015-05-01</td>\n",
       "      <td>Avengers: Age of Ultron</td>\n",
       "      <td>$330,600,000</td>\n",
       "      <td>$459,005,868</td>\n",
       "      <td>$1,403,013,963</td>\n",
       "      <td>2015</td>\n",
       "      <td>Avengers: Age of Ultron</td>\n",
       "      <td>BV</td>\n",
       "      <td>459000000.0</td>\n",
       "      <td>946400000</td>\n",
       "      <td>2015</td>\n",
       "    </tr>\n",
       "    <tr>\n",
       "      <th>2</th>\n",
       "      <td>7</td>\n",
       "      <td>2018-04-27</td>\n",
       "      <td>Avengers: Infinity War</td>\n",
       "      <td>$300,000,000</td>\n",
       "      <td>$678,815,482</td>\n",
       "      <td>$2,048,134,200</td>\n",
       "      <td>2018</td>\n",
       "      <td>Avengers: Infinity War</td>\n",
       "      <td>BV</td>\n",
       "      <td>678800000.0</td>\n",
       "      <td>1,369.5</td>\n",
       "      <td>2018</td>\n",
       "    </tr>\n",
       "    <tr>\n",
       "      <th>3</th>\n",
       "      <td>9</td>\n",
       "      <td>2017-11-17</td>\n",
       "      <td>Justice League</td>\n",
       "      <td>$300,000,000</td>\n",
       "      <td>$229,024,295</td>\n",
       "      <td>$655,945,209</td>\n",
       "      <td>2017</td>\n",
       "      <td>Justice League</td>\n",
       "      <td>WB</td>\n",
       "      <td>229000000.0</td>\n",
       "      <td>428900000</td>\n",
       "      <td>2017</td>\n",
       "    </tr>\n",
       "  </tbody>\n",
       "</table>\n",
       "</div>"
      ],
      "text/plain": [
       "   id release_date                                        movie  \\\n",
       "0   2   2011-05-20  Pirates of the Caribbean: On Stranger Tides   \n",
       "1   4   2015-05-01                      Avengers: Age of Ultron   \n",
       "2   7   2018-04-27                       Avengers: Infinity War   \n",
       "3   9   2017-11-17                               Justice League   \n",
       "\n",
       "  production_budget domestic_gross_x worldwide_gross  tndb_year  \\\n",
       "0      $410,600,000     $241,063,875  $1,045,663,875       2011   \n",
       "1      $330,600,000     $459,005,868  $1,403,013,963       2015   \n",
       "2      $300,000,000     $678,815,482  $2,048,134,200       2018   \n",
       "3      $300,000,000     $229,024,295    $655,945,209       2017   \n",
       "\n",
       "                                         title studio  domestic_gross_y  \\\n",
       "0  Pirates of the Caribbean: On Stranger Tides     BV       241100000.0   \n",
       "1                      Avengers: Age of Ultron     BV       459000000.0   \n",
       "2                       Avengers: Infinity War     BV       678800000.0   \n",
       "3                               Justice League     WB       229000000.0   \n",
       "\n",
       "  foreign_gross  year  \n",
       "0     804600000  2011  \n",
       "1     946400000  2015  \n",
       "2       1,369.5  2018  \n",
       "3     428900000  2017  "
      ]
     },
     "execution_count": 15,
     "metadata": {},
     "output_type": "execute_result"
    }
   ],
   "source": [
    "# Inner Join of TNDB and BOM dataframes on movie title and year released\n",
    "tndb_bom_df = tndb_df_fixdate.merge(bom_df, how = 'inner', left_on = ['movie', 'tndb_year'], right_on = ['title', 'year'])\n",
    "print(\"Total records in joined TNDB and BOM\", len(tndb_bom_df))\n",
    "tndb_bom_df.head(4)"
   ]
  },
  {
   "cell_type": "code",
   "execution_count": 16,
   "metadata": {},
   "outputs": [
    {
     "name": "stdout",
     "output_type": "stream",
     "text": [
      "Total records in joined IMDB, TNDB, and BOM Dataframes 1025\n"
     ]
    },
    {
     "data": {
      "text/html": [
       "<div>\n",
       "<style scoped>\n",
       "    .dataframe tbody tr th:only-of-type {\n",
       "        vertical-align: middle;\n",
       "    }\n",
       "\n",
       "    .dataframe tbody tr th {\n",
       "        vertical-align: top;\n",
       "    }\n",
       "\n",
       "    .dataframe thead th {\n",
       "        text-align: right;\n",
       "    }\n",
       "</style>\n",
       "<table border=\"1\" class=\"dataframe\">\n",
       "  <thead>\n",
       "    <tr style=\"text-align: right;\">\n",
       "      <th></th>\n",
       "      <th>id</th>\n",
       "      <th>release_date</th>\n",
       "      <th>movie</th>\n",
       "      <th>production_budget</th>\n",
       "      <th>domestic_gross_x</th>\n",
       "      <th>worldwide_gross</th>\n",
       "      <th>tndb_year</th>\n",
       "      <th>title</th>\n",
       "      <th>studio</th>\n",
       "      <th>domestic_gross_y</th>\n",
       "      <th>foreign_gross</th>\n",
       "      <th>year</th>\n",
       "      <th>movie_id</th>\n",
       "      <th>primary_title</th>\n",
       "      <th>original_title</th>\n",
       "      <th>start_year</th>\n",
       "      <th>runtime_minutes</th>\n",
       "      <th>genres</th>\n",
       "      <th>averagerating</th>\n",
       "      <th>numvotes</th>\n",
       "    </tr>\n",
       "  </thead>\n",
       "  <tbody>\n",
       "    <tr>\n",
       "      <th>0</th>\n",
       "      <td>2</td>\n",
       "      <td>2011-05-20</td>\n",
       "      <td>Pirates of the Caribbean: On Stranger Tides</td>\n",
       "      <td>$410,600,000</td>\n",
       "      <td>$241,063,875</td>\n",
       "      <td>$1,045,663,875</td>\n",
       "      <td>2011</td>\n",
       "      <td>Pirates of the Caribbean: On Stranger Tides</td>\n",
       "      <td>BV</td>\n",
       "      <td>241100000.0</td>\n",
       "      <td>804600000</td>\n",
       "      <td>2011</td>\n",
       "      <td>tt1298650</td>\n",
       "      <td>Pirates of the Caribbean: On Stranger Tides</td>\n",
       "      <td>Pirates of the Caribbean: On Stranger Tides</td>\n",
       "      <td>2011</td>\n",
       "      <td>136.0</td>\n",
       "      <td>Action,Adventure,Fantasy</td>\n",
       "      <td>6.6</td>\n",
       "      <td>447624</td>\n",
       "    </tr>\n",
       "    <tr>\n",
       "      <th>1</th>\n",
       "      <td>4</td>\n",
       "      <td>2015-05-01</td>\n",
       "      <td>Avengers: Age of Ultron</td>\n",
       "      <td>$330,600,000</td>\n",
       "      <td>$459,005,868</td>\n",
       "      <td>$1,403,013,963</td>\n",
       "      <td>2015</td>\n",
       "      <td>Avengers: Age of Ultron</td>\n",
       "      <td>BV</td>\n",
       "      <td>459000000.0</td>\n",
       "      <td>946400000</td>\n",
       "      <td>2015</td>\n",
       "      <td>tt2395427</td>\n",
       "      <td>Avengers: Age of Ultron</td>\n",
       "      <td>Avengers: Age of Ultron</td>\n",
       "      <td>2015</td>\n",
       "      <td>141.0</td>\n",
       "      <td>Action,Adventure,Sci-Fi</td>\n",
       "      <td>7.3</td>\n",
       "      <td>665594</td>\n",
       "    </tr>\n",
       "    <tr>\n",
       "      <th>2</th>\n",
       "      <td>7</td>\n",
       "      <td>2018-04-27</td>\n",
       "      <td>Avengers: Infinity War</td>\n",
       "      <td>$300,000,000</td>\n",
       "      <td>$678,815,482</td>\n",
       "      <td>$2,048,134,200</td>\n",
       "      <td>2018</td>\n",
       "      <td>Avengers: Infinity War</td>\n",
       "      <td>BV</td>\n",
       "      <td>678800000.0</td>\n",
       "      <td>1,369.5</td>\n",
       "      <td>2018</td>\n",
       "      <td>tt4154756</td>\n",
       "      <td>Avengers: Infinity War</td>\n",
       "      <td>Avengers: Infinity War</td>\n",
       "      <td>2018</td>\n",
       "      <td>149.0</td>\n",
       "      <td>Action,Adventure,Sci-Fi</td>\n",
       "      <td>8.5</td>\n",
       "      <td>670926</td>\n",
       "    </tr>\n",
       "    <tr>\n",
       "      <th>3</th>\n",
       "      <td>9</td>\n",
       "      <td>2017-11-17</td>\n",
       "      <td>Justice League</td>\n",
       "      <td>$300,000,000</td>\n",
       "      <td>$229,024,295</td>\n",
       "      <td>$655,945,209</td>\n",
       "      <td>2017</td>\n",
       "      <td>Justice League</td>\n",
       "      <td>WB</td>\n",
       "      <td>229000000.0</td>\n",
       "      <td>428900000</td>\n",
       "      <td>2017</td>\n",
       "      <td>tt0974015</td>\n",
       "      <td>Justice League</td>\n",
       "      <td>Justice League</td>\n",
       "      <td>2017</td>\n",
       "      <td>120.0</td>\n",
       "      <td>Action,Adventure,Fantasy</td>\n",
       "      <td>6.5</td>\n",
       "      <td>329135</td>\n",
       "    </tr>\n",
       "  </tbody>\n",
       "</table>\n",
       "</div>"
      ],
      "text/plain": [
       "   id release_date                                        movie  \\\n",
       "0   2   2011-05-20  Pirates of the Caribbean: On Stranger Tides   \n",
       "1   4   2015-05-01                      Avengers: Age of Ultron   \n",
       "2   7   2018-04-27                       Avengers: Infinity War   \n",
       "3   9   2017-11-17                               Justice League   \n",
       "\n",
       "  production_budget domestic_gross_x worldwide_gross  tndb_year  \\\n",
       "0      $410,600,000     $241,063,875  $1,045,663,875       2011   \n",
       "1      $330,600,000     $459,005,868  $1,403,013,963       2015   \n",
       "2      $300,000,000     $678,815,482  $2,048,134,200       2018   \n",
       "3      $300,000,000     $229,024,295    $655,945,209       2017   \n",
       "\n",
       "                                         title studio  domestic_gross_y  \\\n",
       "0  Pirates of the Caribbean: On Stranger Tides     BV       241100000.0   \n",
       "1                      Avengers: Age of Ultron     BV       459000000.0   \n",
       "2                       Avengers: Infinity War     BV       678800000.0   \n",
       "3                               Justice League     WB       229000000.0   \n",
       "\n",
       "  foreign_gross  year   movie_id                                primary_title  \\\n",
       "0     804600000  2011  tt1298650  Pirates of the Caribbean: On Stranger Tides   \n",
       "1     946400000  2015  tt2395427                      Avengers: Age of Ultron   \n",
       "2       1,369.5  2018  tt4154756                       Avengers: Infinity War   \n",
       "3     428900000  2017  tt0974015                               Justice League   \n",
       "\n",
       "                                original_title  start_year  runtime_minutes  \\\n",
       "0  Pirates of the Caribbean: On Stranger Tides        2011            136.0   \n",
       "1                      Avengers: Age of Ultron        2015            141.0   \n",
       "2                       Avengers: Infinity War        2018            149.0   \n",
       "3                               Justice League        2017            120.0   \n",
       "\n",
       "                     genres  averagerating  numvotes  \n",
       "0  Action,Adventure,Fantasy            6.6    447624  \n",
       "1   Action,Adventure,Sci-Fi            7.3    665594  \n",
       "2   Action,Adventure,Sci-Fi            8.5    670926  \n",
       "3  Action,Adventure,Fantasy            6.5    329135  "
      ]
     },
     "execution_count": 16,
     "metadata": {},
     "output_type": "execute_result"
    }
   ],
   "source": [
    "# Inner join of TNDB/BOM joined dataframe and IMDB\n",
    "imdb_tndb_bom_df = tndb_bom_df.merge(imdb_df_filtered, how='inner', left_on = ['movie', 'year'], right_on = ['primary_title', 'start_year'])\n",
    "print(\"Total records in joined IMDB, TNDB, and BOM Dataframes\", len(imdb_tndb_bom_df))\n",
    "imdb_tndb_bom_df.head(4)"
   ]
  },
  {
   "cell_type": "code",
   "execution_count": 17,
   "metadata": {},
   "outputs": [
    {
     "name": "stdout",
     "output_type": "stream",
     "text": [
      "<class 'pandas.core.frame.DataFrame'>\n",
      "Int64Index: 1025 entries, 0 to 1024\n",
      "Data columns (total 20 columns):\n",
      " #   Column             Non-Null Count  Dtype         \n",
      "---  ------             --------------  -----         \n",
      " 0   id                 1025 non-null   int64         \n",
      " 1   release_date       1025 non-null   datetime64[ns]\n",
      " 2   movie              1025 non-null   object        \n",
      " 3   production_budget  1025 non-null   object        \n",
      " 4   domestic_gross_x   1025 non-null   object        \n",
      " 5   worldwide_gross    1025 non-null   object        \n",
      " 6   tndb_year          1025 non-null   int64         \n",
      " 7   title              1025 non-null   object        \n",
      " 8   studio             1025 non-null   object        \n",
      " 9   domestic_gross_y   1024 non-null   float64       \n",
      " 10  foreign_gross      925 non-null    object        \n",
      " 11  year               1025 non-null   int64         \n",
      " 12  movie_id           1025 non-null   object        \n",
      " 13  primary_title      1025 non-null   object        \n",
      " 14  original_title     1025 non-null   object        \n",
      " 15  start_year         1025 non-null   int64         \n",
      " 16  runtime_minutes    1025 non-null   float64       \n",
      " 17  genres             1025 non-null   object        \n",
      " 18  averagerating      1025 non-null   float64       \n",
      " 19  numvotes           1025 non-null   int64         \n",
      "dtypes: datetime64[ns](1), float64(3), int64(5), object(11)\n",
      "memory usage: 168.2+ KB\n"
     ]
    }
   ],
   "source": [
    "imdb_tndb_bom_df.info()"
   ]
  },
  {
   "cell_type": "markdown",
   "metadata": {},
   "source": [
    "#### Discussion: Joined Dataframes\n",
    "Out of 73,856 records in the raw IMDB dataframe, 5,782 in TNDB datframe, and 3,387 in the BOM dataframe, I am left with 1,025 records in the joined dataframe. This is a limitation of the analysis as more data would make a better analysis."
   ]
  },
  {
   "cell_type": "markdown",
   "metadata": {},
   "source": [
    "### 3. Find and Correct Missing Values\n",
    "Missing values can be in the format of `NaN` or as a placeholder."
   ]
  },
  {
   "cell_type": "code",
   "execution_count": 18,
   "metadata": {},
   "outputs": [
    {
     "name": "stdout",
     "output_type": "stream",
     "text": [
      "Joined Dataframe Null Values\n"
     ]
    },
    {
     "data": {
      "text/plain": [
       "id                     0\n",
       "release_date           0\n",
       "movie                  0\n",
       "production_budget      0\n",
       "domestic_gross_x       0\n",
       "worldwide_gross        0\n",
       "tndb_year              0\n",
       "title                  0\n",
       "studio                 0\n",
       "domestic_gross_y       1\n",
       "foreign_gross        100\n",
       "year                   0\n",
       "movie_id               0\n",
       "primary_title          0\n",
       "original_title         0\n",
       "start_year             0\n",
       "runtime_minutes        0\n",
       "genres                 0\n",
       "averagerating          0\n",
       "numvotes               0\n",
       "dtype: int64"
      ]
     },
     "execution_count": 18,
     "metadata": {},
     "output_type": "execute_result"
    }
   ],
   "source": [
    "print(\"Joined Dataframe Null Values\")\n",
    "imdb_tndb_bom_df.isnull().sum() # add up all the True (1) values to identify null values"
   ]
  },
  {
   "cell_type": "markdown",
   "metadata": {},
   "source": [
    "#### Replace missing `foreign_gross` and `domestic_gross_y` with TNDB's data\n",
    "\n",
    "There are 100 missing values in the `foreign_gross` column and 1 in the `domestic_gross_y` column derived from the BOM dataframe. For the missing value in the `domestic_gross_y` I can use the data in `domestic_gross_x` derived from the TNDB dataframe. The missing values in `foreign_gross` can be corrected by subtracting the values in `worldwide_gross` from `domestic_gross_x`. Before this can be repaired `domestic_gross`, `worldwide_gross`, and `foreign_gross` need to be converted to a numerical data type."
   ]
  },
  {
   "cell_type": "markdown",
   "metadata": {},
   "source": [
    "##### Convert `domestic_gross_x`, `worldwide_gross`, `production_budget`, and `foreign_gross` to numerical data type\n",
    "TNDB's `domestic_gross_x` and `worldwide_gross` is stored as a string data type. I will strip the string, remove the '\\\\$' and commas and convert to int data type."
   ]
  },
  {
   "cell_type": "code",
   "execution_count": 19,
   "metadata": {},
   "outputs": [
    {
     "name": "stderr",
     "output_type": "stream",
     "text": [
      "C:\\Users\\kevin\\AppData\\Local\\Temp/ipykernel_39572/2456271369.py:3: FutureWarning: The default value of regex will change from True to False in a future version. In addition, single character regular expressions will *not* be treated as literal strings when regex=True.\n",
      "  imdb_tndb_bom_df['production_budget'] = imdb_tndb_bom_df['production_budget'].str.replace('$', '')\n",
      "C:\\Users\\kevin\\AppData\\Local\\Temp/ipykernel_39572/2456271369.py:5: FutureWarning: The default value of regex will change from True to False in a future version. In addition, single character regular expressions will *not* be treated as literal strings when regex=True.\n",
      "  imdb_tndb_bom_df['domestic_gross_x'] = imdb_tndb_bom_df['domestic_gross_x'].str.replace('$', '')\n",
      "C:\\Users\\kevin\\AppData\\Local\\Temp/ipykernel_39572/2456271369.py:7: FutureWarning: The default value of regex will change from True to False in a future version. In addition, single character regular expressions will *not* be treated as literal strings when regex=True.\n",
      "  imdb_tndb_bom_df['worldwide_gross'] = imdb_tndb_bom_df['worldwide_gross'].str.replace('$', '')\n"
     ]
    },
    {
     "data": {
      "text/html": [
       "<div>\n",
       "<style scoped>\n",
       "    .dataframe tbody tr th:only-of-type {\n",
       "        vertical-align: middle;\n",
       "    }\n",
       "\n",
       "    .dataframe tbody tr th {\n",
       "        vertical-align: top;\n",
       "    }\n",
       "\n",
       "    .dataframe thead th {\n",
       "        text-align: right;\n",
       "    }\n",
       "</style>\n",
       "<table border=\"1\" class=\"dataframe\">\n",
       "  <thead>\n",
       "    <tr style=\"text-align: right;\">\n",
       "      <th></th>\n",
       "      <th>id</th>\n",
       "      <th>release_date</th>\n",
       "      <th>movie</th>\n",
       "      <th>production_budget</th>\n",
       "      <th>domestic_gross_x</th>\n",
       "      <th>worldwide_gross</th>\n",
       "      <th>tndb_year</th>\n",
       "      <th>title</th>\n",
       "      <th>studio</th>\n",
       "      <th>domestic_gross_y</th>\n",
       "      <th>foreign_gross</th>\n",
       "      <th>year</th>\n",
       "      <th>movie_id</th>\n",
       "      <th>primary_title</th>\n",
       "      <th>original_title</th>\n",
       "      <th>start_year</th>\n",
       "      <th>runtime_minutes</th>\n",
       "      <th>genres</th>\n",
       "      <th>averagerating</th>\n",
       "      <th>numvotes</th>\n",
       "    </tr>\n",
       "  </thead>\n",
       "  <tbody>\n",
       "    <tr>\n",
       "      <th>0</th>\n",
       "      <td>2</td>\n",
       "      <td>2011-05-20</td>\n",
       "      <td>Pirates of the Caribbean: On Stranger Tides</td>\n",
       "      <td>410600000</td>\n",
       "      <td>241063875</td>\n",
       "      <td>1045663875</td>\n",
       "      <td>2011</td>\n",
       "      <td>Pirates of the Caribbean: On Stranger Tides</td>\n",
       "      <td>BV</td>\n",
       "      <td>241100000.0</td>\n",
       "      <td>804600000</td>\n",
       "      <td>2011</td>\n",
       "      <td>tt1298650</td>\n",
       "      <td>Pirates of the Caribbean: On Stranger Tides</td>\n",
       "      <td>Pirates of the Caribbean: On Stranger Tides</td>\n",
       "      <td>2011</td>\n",
       "      <td>136.0</td>\n",
       "      <td>Action,Adventure,Fantasy</td>\n",
       "      <td>6.6</td>\n",
       "      <td>447624</td>\n",
       "    </tr>\n",
       "    <tr>\n",
       "      <th>1</th>\n",
       "      <td>4</td>\n",
       "      <td>2015-05-01</td>\n",
       "      <td>Avengers: Age of Ultron</td>\n",
       "      <td>330600000</td>\n",
       "      <td>459005868</td>\n",
       "      <td>1403013963</td>\n",
       "      <td>2015</td>\n",
       "      <td>Avengers: Age of Ultron</td>\n",
       "      <td>BV</td>\n",
       "      <td>459000000.0</td>\n",
       "      <td>946400000</td>\n",
       "      <td>2015</td>\n",
       "      <td>tt2395427</td>\n",
       "      <td>Avengers: Age of Ultron</td>\n",
       "      <td>Avengers: Age of Ultron</td>\n",
       "      <td>2015</td>\n",
       "      <td>141.0</td>\n",
       "      <td>Action,Adventure,Sci-Fi</td>\n",
       "      <td>7.3</td>\n",
       "      <td>665594</td>\n",
       "    </tr>\n",
       "    <tr>\n",
       "      <th>2</th>\n",
       "      <td>7</td>\n",
       "      <td>2018-04-27</td>\n",
       "      <td>Avengers: Infinity War</td>\n",
       "      <td>300000000</td>\n",
       "      <td>678815482</td>\n",
       "      <td>2048134200</td>\n",
       "      <td>2018</td>\n",
       "      <td>Avengers: Infinity War</td>\n",
       "      <td>BV</td>\n",
       "      <td>678800000.0</td>\n",
       "      <td>1,369.5</td>\n",
       "      <td>2018</td>\n",
       "      <td>tt4154756</td>\n",
       "      <td>Avengers: Infinity War</td>\n",
       "      <td>Avengers: Infinity War</td>\n",
       "      <td>2018</td>\n",
       "      <td>149.0</td>\n",
       "      <td>Action,Adventure,Sci-Fi</td>\n",
       "      <td>8.5</td>\n",
       "      <td>670926</td>\n",
       "    </tr>\n",
       "    <tr>\n",
       "      <th>3</th>\n",
       "      <td>9</td>\n",
       "      <td>2017-11-17</td>\n",
       "      <td>Justice League</td>\n",
       "      <td>300000000</td>\n",
       "      <td>229024295</td>\n",
       "      <td>655945209</td>\n",
       "      <td>2017</td>\n",
       "      <td>Justice League</td>\n",
       "      <td>WB</td>\n",
       "      <td>229000000.0</td>\n",
       "      <td>428900000</td>\n",
       "      <td>2017</td>\n",
       "      <td>tt0974015</td>\n",
       "      <td>Justice League</td>\n",
       "      <td>Justice League</td>\n",
       "      <td>2017</td>\n",
       "      <td>120.0</td>\n",
       "      <td>Action,Adventure,Fantasy</td>\n",
       "      <td>6.5</td>\n",
       "      <td>329135</td>\n",
       "    </tr>\n",
       "    <tr>\n",
       "      <th>4</th>\n",
       "      <td>10</td>\n",
       "      <td>2015-11-06</td>\n",
       "      <td>Spectre</td>\n",
       "      <td>300000000</td>\n",
       "      <td>200074175</td>\n",
       "      <td>879620923</td>\n",
       "      <td>2015</td>\n",
       "      <td>Spectre</td>\n",
       "      <td>Sony</td>\n",
       "      <td>200100000.0</td>\n",
       "      <td>680600000</td>\n",
       "      <td>2015</td>\n",
       "      <td>tt2379713</td>\n",
       "      <td>Spectre</td>\n",
       "      <td>Spectre</td>\n",
       "      <td>2015</td>\n",
       "      <td>148.0</td>\n",
       "      <td>Action,Adventure,Thriller</td>\n",
       "      <td>6.8</td>\n",
       "      <td>352504</td>\n",
       "    </tr>\n",
       "  </tbody>\n",
       "</table>\n",
       "</div>"
      ],
      "text/plain": [
       "   id release_date                                        movie  \\\n",
       "0   2   2011-05-20  Pirates of the Caribbean: On Stranger Tides   \n",
       "1   4   2015-05-01                      Avengers: Age of Ultron   \n",
       "2   7   2018-04-27                       Avengers: Infinity War   \n",
       "3   9   2017-11-17                               Justice League   \n",
       "4  10   2015-11-06                                      Spectre   \n",
       "\n",
       "   production_budget  domestic_gross_x  worldwide_gross  tndb_year  \\\n",
       "0          410600000         241063875       1045663875       2011   \n",
       "1          330600000         459005868       1403013963       2015   \n",
       "2          300000000         678815482       2048134200       2018   \n",
       "3          300000000         229024295        655945209       2017   \n",
       "4          300000000         200074175        879620923       2015   \n",
       "\n",
       "                                         title studio  domestic_gross_y  \\\n",
       "0  Pirates of the Caribbean: On Stranger Tides     BV       241100000.0   \n",
       "1                      Avengers: Age of Ultron     BV       459000000.0   \n",
       "2                       Avengers: Infinity War     BV       678800000.0   \n",
       "3                               Justice League     WB       229000000.0   \n",
       "4                                      Spectre   Sony       200100000.0   \n",
       "\n",
       "  foreign_gross  year   movie_id                                primary_title  \\\n",
       "0     804600000  2011  tt1298650  Pirates of the Caribbean: On Stranger Tides   \n",
       "1     946400000  2015  tt2395427                      Avengers: Age of Ultron   \n",
       "2       1,369.5  2018  tt4154756                       Avengers: Infinity War   \n",
       "3     428900000  2017  tt0974015                               Justice League   \n",
       "4     680600000  2015  tt2379713                                      Spectre   \n",
       "\n",
       "                                original_title  start_year  runtime_minutes  \\\n",
       "0  Pirates of the Caribbean: On Stranger Tides        2011            136.0   \n",
       "1                      Avengers: Age of Ultron        2015            141.0   \n",
       "2                       Avengers: Infinity War        2018            149.0   \n",
       "3                               Justice League        2017            120.0   \n",
       "4                                      Spectre        2015            148.0   \n",
       "\n",
       "                      genres  averagerating  numvotes  \n",
       "0   Action,Adventure,Fantasy            6.6    447624  \n",
       "1    Action,Adventure,Sci-Fi            7.3    665594  \n",
       "2    Action,Adventure,Sci-Fi            8.5    670926  \n",
       "3   Action,Adventure,Fantasy            6.5    329135  \n",
       "4  Action,Adventure,Thriller            6.8    352504  "
      ]
     },
     "execution_count": 19,
     "metadata": {},
     "output_type": "execute_result"
    }
   ],
   "source": [
    "# remove '$' and ',' from production_budget, domestic_gross_x, and worldwide_gross\n",
    "imdb_tndb_bom_df['production_budget'] = imdb_tndb_bom_df['production_budget'].str.replace(',', '')\n",
    "imdb_tndb_bom_df['production_budget'] = imdb_tndb_bom_df['production_budget'].str.replace('$', '')\n",
    "imdb_tndb_bom_df['domestic_gross_x'] = imdb_tndb_bom_df['domestic_gross_x'].str.replace(',', '')\n",
    "imdb_tndb_bom_df['domestic_gross_x'] = imdb_tndb_bom_df['domestic_gross_x'].str.replace('$', '')\n",
    "imdb_tndb_bom_df['worldwide_gross'] = imdb_tndb_bom_df['worldwide_gross'].str.replace(',', '')\n",
    "imdb_tndb_bom_df['worldwide_gross'] = imdb_tndb_bom_df['worldwide_gross'].str.replace('$', '')\n",
    "\n",
    "# Convert to int datatype\n",
    "imdb_tndb_bom_df['production_budget'] = imdb_tndb_bom_df['production_budget'].astype('int64')\n",
    "imdb_tndb_bom_df['domestic_gross_x'] = imdb_tndb_bom_df['domestic_gross_x'].astype('int64')\n",
    "imdb_tndb_bom_df['worldwide_gross'] = imdb_tndb_bom_df['worldwide_gross'].astype('int64')\n",
    "\n",
    "imdb_tndb_bom_df.head()"
   ]
  },
  {
   "cell_type": "markdown",
   "metadata": {},
   "source": [
    "##### Converting datatype of `foreign_gross`\n",
    "`foreign_gross` is listed as an object data type which means it must contain strings and integers in that column. As shown in the table above for *Aveengers: Infinity War*, 1,369.5 is listed as the foreign gross revenue. This value is in the billions so the comma (',') needs to be stripped out and converted to the correct value."
   ]
  },
  {
   "cell_type": "code",
   "execution_count": 20,
   "metadata": {},
   "outputs": [
    {
     "data": {
      "text/html": [
       "<div>\n",
       "<style scoped>\n",
       "    .dataframe tbody tr th:only-of-type {\n",
       "        vertical-align: middle;\n",
       "    }\n",
       "\n",
       "    .dataframe tbody tr th {\n",
       "        vertical-align: top;\n",
       "    }\n",
       "\n",
       "    .dataframe thead th {\n",
       "        text-align: right;\n",
       "    }\n",
       "</style>\n",
       "<table border=\"1\" class=\"dataframe\">\n",
       "  <thead>\n",
       "    <tr style=\"text-align: right;\">\n",
       "      <th></th>\n",
       "      <th>id</th>\n",
       "      <th>release_date</th>\n",
       "      <th>movie</th>\n",
       "      <th>production_budget</th>\n",
       "      <th>domestic_gross_x</th>\n",
       "      <th>worldwide_gross</th>\n",
       "      <th>tndb_year</th>\n",
       "      <th>title</th>\n",
       "      <th>studio</th>\n",
       "      <th>domestic_gross_y</th>\n",
       "      <th>foreign_gross</th>\n",
       "      <th>year</th>\n",
       "      <th>movie_id</th>\n",
       "      <th>primary_title</th>\n",
       "      <th>original_title</th>\n",
       "      <th>start_year</th>\n",
       "      <th>runtime_minutes</th>\n",
       "      <th>genres</th>\n",
       "      <th>averagerating</th>\n",
       "      <th>numvotes</th>\n",
       "    </tr>\n",
       "  </thead>\n",
       "  <tbody>\n",
       "    <tr>\n",
       "      <th>2</th>\n",
       "      <td>7</td>\n",
       "      <td>2018-04-27</td>\n",
       "      <td>Avengers: Infinity War</td>\n",
       "      <td>300000000</td>\n",
       "      <td>678815482</td>\n",
       "      <td>2048134200</td>\n",
       "      <td>2018</td>\n",
       "      <td>Avengers: Infinity War</td>\n",
       "      <td>BV</td>\n",
       "      <td>678800000.0</td>\n",
       "      <td>1,369.5</td>\n",
       "      <td>2018</td>\n",
       "      <td>tt4154756</td>\n",
       "      <td>Avengers: Infinity War</td>\n",
       "      <td>Avengers: Infinity War</td>\n",
       "      <td>2018</td>\n",
       "      <td>149.0</td>\n",
       "      <td>Action,Adventure,Sci-Fi</td>\n",
       "      <td>8.5</td>\n",
       "      <td>670926</td>\n",
       "    </tr>\n",
       "    <tr>\n",
       "      <th>15</th>\n",
       "      <td>23</td>\n",
       "      <td>2017-04-14</td>\n",
       "      <td>The Fate of the Furious</td>\n",
       "      <td>250000000</td>\n",
       "      <td>225764765</td>\n",
       "      <td>1234846267</td>\n",
       "      <td>2017</td>\n",
       "      <td>The Fate of the Furious</td>\n",
       "      <td>Uni.</td>\n",
       "      <td>226000000.0</td>\n",
       "      <td>1,010.0</td>\n",
       "      <td>2017</td>\n",
       "      <td>tt4630562</td>\n",
       "      <td>The Fate of the Furious</td>\n",
       "      <td>The Fate of the Furious</td>\n",
       "      <td>2017</td>\n",
       "      <td>136.0</td>\n",
       "      <td>Action,Crime,Thriller</td>\n",
       "      <td>6.7</td>\n",
       "      <td>179774</td>\n",
       "    </tr>\n",
       "    <tr>\n",
       "      <th>21</th>\n",
       "      <td>34</td>\n",
       "      <td>2015-06-12</td>\n",
       "      <td>Jurassic World</td>\n",
       "      <td>215000000</td>\n",
       "      <td>652270625</td>\n",
       "      <td>1648854864</td>\n",
       "      <td>2015</td>\n",
       "      <td>Jurassic World</td>\n",
       "      <td>Uni.</td>\n",
       "      <td>652300000.0</td>\n",
       "      <td>1,019.4</td>\n",
       "      <td>2015</td>\n",
       "      <td>tt0369610</td>\n",
       "      <td>Jurassic World</td>\n",
       "      <td>Jurassic World</td>\n",
       "      <td>2015</td>\n",
       "      <td>124.0</td>\n",
       "      <td>Action,Adventure,Sci-Fi</td>\n",
       "      <td>7.0</td>\n",
       "      <td>539338</td>\n",
       "    </tr>\n",
       "    <tr>\n",
       "      <th>39</th>\n",
       "      <td>67</td>\n",
       "      <td>2015-04-03</td>\n",
       "      <td>Furious 7</td>\n",
       "      <td>190000000</td>\n",
       "      <td>353007020</td>\n",
       "      <td>1518722794</td>\n",
       "      <td>2015</td>\n",
       "      <td>Furious 7</td>\n",
       "      <td>Uni.</td>\n",
       "      <td>353000000.0</td>\n",
       "      <td>1,163.0</td>\n",
       "      <td>2015</td>\n",
       "      <td>tt2820852</td>\n",
       "      <td>Furious 7</td>\n",
       "      <td>Furious Seven</td>\n",
       "      <td>2015</td>\n",
       "      <td>137.0</td>\n",
       "      <td>Action,Crime,Thriller</td>\n",
       "      <td>7.2</td>\n",
       "      <td>335074</td>\n",
       "    </tr>\n",
       "  </tbody>\n",
       "</table>\n",
       "</div>"
      ],
      "text/plain": [
       "    id release_date                    movie  production_budget  \\\n",
       "2    7   2018-04-27   Avengers: Infinity War          300000000   \n",
       "15  23   2017-04-14  The Fate of the Furious          250000000   \n",
       "21  34   2015-06-12           Jurassic World          215000000   \n",
       "39  67   2015-04-03                Furious 7          190000000   \n",
       "\n",
       "    domestic_gross_x  worldwide_gross  tndb_year                    title  \\\n",
       "2          678815482       2048134200       2018   Avengers: Infinity War   \n",
       "15         225764765       1234846267       2017  The Fate of the Furious   \n",
       "21         652270625       1648854864       2015           Jurassic World   \n",
       "39         353007020       1518722794       2015                Furious 7   \n",
       "\n",
       "   studio  domestic_gross_y foreign_gross  year   movie_id  \\\n",
       "2      BV       678800000.0       1,369.5  2018  tt4154756   \n",
       "15   Uni.       226000000.0       1,010.0  2017  tt4630562   \n",
       "21   Uni.       652300000.0       1,019.4  2015  tt0369610   \n",
       "39   Uni.       353000000.0       1,163.0  2015  tt2820852   \n",
       "\n",
       "              primary_title           original_title  start_year  \\\n",
       "2    Avengers: Infinity War   Avengers: Infinity War        2018   \n",
       "15  The Fate of the Furious  The Fate of the Furious        2017   \n",
       "21           Jurassic World           Jurassic World        2015   \n",
       "39                Furious 7            Furious Seven        2015   \n",
       "\n",
       "    runtime_minutes                   genres  averagerating  numvotes  \n",
       "2             149.0  Action,Adventure,Sci-Fi            8.5    670926  \n",
       "15            136.0    Action,Crime,Thriller            6.7    179774  \n",
       "21            124.0  Action,Adventure,Sci-Fi            7.0    539338  \n",
       "39            137.0    Action,Crime,Thriller            7.2    335074  "
      ]
     },
     "execution_count": 20,
     "metadata": {},
     "output_type": "execute_result"
    }
   ],
   "source": [
    "# Extract values in foreign_gross that have commas\n",
    "imdb_tndb_bom_df[imdb_tndb_bom_df['foreign_gross'].str.contains(',', na=False)]"
   ]
  },
  {
   "cell_type": "markdown",
   "metadata": {},
   "source": [
    "There are only 4 records with comma in the `foreign_gross` column. Investigating these movies shows that these values represent billions of dollars in revenue so 1,369.5 for *Avenger's Infinity War* is actually 1,369,500,000 in foreign gross revenue. \n",
    "\n",
    "I will strip out the comma, convert to a `float` data type and multiply by 1,000,000."
   ]
  },
  {
   "cell_type": "code",
   "execution_count": 21,
   "metadata": {},
   "outputs": [],
   "source": [
    "# Fix `foreign_gross` data that was in billions\n",
    "foreign_gross_to_replace = imdb_tndb_bom_df[imdb_tndb_bom_df['foreign_gross'].str.contains(',', na=False)]\\\n",
    "                                        ['foreign_gross'].str.replace(',', '').astype('float64') * 1000000\n",
    "imdb_tndb_bom_df.loc[imdb_tndb_bom_df['foreign_gross'].str.contains(',', na=False), 'foreign_gross'] = foreign_gross_to_replace\n",
    "\n",
    "# Convert all data in foreign_gross column to float64\n",
    "imdb_tndb_bom_df['foreign_gross'] = imdb_tndb_bom_df['foreign_gross'].astype('float64')"
   ]
  },
  {
   "cell_type": "code",
   "execution_count": 22,
   "metadata": {},
   "outputs": [
    {
     "data": {
      "text/plain": [
       "2    1.369500e+09\n",
       "Name: foreign_gross, dtype: float64"
      ]
     },
     "execution_count": 22,
     "metadata": {},
     "output_type": "execute_result"
    }
   ],
   "source": [
    "# Check if was replaced correctly\n",
    "imdb_tndb_bom_df[imdb_tndb_bom_df['title'] == 'Avengers: Infinity War']['foreign_gross']"
   ]
  },
  {
   "cell_type": "markdown",
   "metadata": {},
   "source": [
    "##### Replace the missing domestic_gross and foreign_gross data from BOM with the data from TNDB"
   ]
  },
  {
   "cell_type": "code",
   "execution_count": 23,
   "metadata": {},
   "outputs": [
    {
     "name": "stdout",
     "output_type": "stream",
     "text": [
      "Missing domestic_gross_y & foreign_gross:  0\n"
     ]
    }
   ],
   "source": [
    "# Any records with missing values in `domestic_gross_y` and `foreign_gross`?\n",
    "statement = 'Missing domestic_gross_y & foreign_gross: '\n",
    "print(statement, len(imdb_tndb_bom_df[(imdb_tndb_bom_df['domestic_gross_y'].isna() ) & (imdb_tndb_bom_df['foreign_gross'].isna() )]))\n",
    "\n",
    "# Replace missing domestic_gross_y data\n",
    "imdb_tndb_bom_df.loc[imdb_tndb_bom_df['domestic_gross_y'].isna(), 'domestic_gross_y'] = imdb_tndb_bom_df[imdb_tndb_bom_df['domestic_gross_y'].isna()]['domestic_gross_x']\n",
    "\n",
    "# Replace missing foreign_gross data\n",
    "worldwide_replace = imdb_tndb_bom_df[imdb_tndb_bom_df['foreign_gross'].isna()]['worldwide_gross']\n",
    "domestic_replace = imdb_tndb_bom_df[imdb_tndb_bom_df['foreign_gross'].isna()]['domestic_gross_x']\n",
    "imdb_tndb_bom_df.loc[imdb_tndb_bom_df['foreign_gross'].isna(), 'foreign_gross'] = worldwide_replace - domestic_replace"
   ]
  },
  {
   "cell_type": "code",
   "execution_count": 24,
   "metadata": {},
   "outputs": [
    {
     "name": "stdout",
     "output_type": "stream",
     "text": [
      "Joined Dataframe Null Values\n"
     ]
    },
    {
     "data": {
      "text/plain": [
       "id                   0\n",
       "release_date         0\n",
       "movie                0\n",
       "production_budget    0\n",
       "domestic_gross_x     0\n",
       "worldwide_gross      0\n",
       "tndb_year            0\n",
       "title                0\n",
       "studio               0\n",
       "domestic_gross_y     0\n",
       "foreign_gross        0\n",
       "year                 0\n",
       "movie_id             0\n",
       "primary_title        0\n",
       "original_title       0\n",
       "start_year           0\n",
       "runtime_minutes      0\n",
       "genres               0\n",
       "averagerating        0\n",
       "numvotes             0\n",
       "dtype: int64"
      ]
     },
     "execution_count": 24,
     "metadata": {},
     "output_type": "execute_result"
    }
   ],
   "source": [
    "print(\"Joined Dataframe Null Values\")\n",
    "imdb_tndb_bom_df.isnull().sum() # add up all the True (1) values to identify null values"
   ]
  },
  {
   "cell_type": "markdown",
   "metadata": {},
   "source": [
    "### 4. Check for placeholders\n",
    "\n",
    "#### Locate Top Occuring Values\n",
    "Some databases have placeholders instead of null or NaN values. I will search for top occuring values to see if placeholders or data artifacts that indicate placeholders."
   ]
  },
  {
   "cell_type": "code",
   "execution_count": 25,
   "metadata": {},
   "outputs": [
    {
     "name": "stdout",
     "output_type": "stream",
     "text": [
      "Joined Dataframe\n",
      "\n",
      "id \n",
      " 64    0.016585\n",
      "60    0.016585\n",
      "29    0.015610\n",
      "62    0.014634\n",
      "78    0.014634\n",
      "34    0.014634\n",
      "70    0.014634\n",
      "14    0.014634\n",
      "51    0.014634\n",
      "36    0.013659\n",
      "Name: id, dtype: float64 \n",
      "\n",
      "release_date \n",
      " 2010-10-08    0.007805\n",
      "2014-10-10    0.006829\n",
      "2016-06-24    0.005854\n",
      "2011-09-30    0.005854\n",
      "2013-12-25    0.005854\n",
      "2011-09-23    0.005854\n",
      "2011-10-28    0.004878\n",
      "2011-07-29    0.004878\n",
      "2011-10-21    0.004878\n",
      "2015-10-16    0.004878\n",
      "Name: release_date, dtype: float64 \n",
      "\n",
      "movie \n",
      " Pirates of the Caribbean: On Stranger Tides    0.000976\n",
      "Life of the Party                              0.000976\n",
      "Sausage Party                                  0.000976\n",
      "The Crazies                                    0.000976\n",
      "The Switch                                     0.000976\n",
      "Leap Year                                      0.000976\n",
      "The Book Thief                                 0.000976\n",
      "Take Me Home Tonight                           0.000976\n",
      "Won't Back Down                                0.000976\n",
      "Neighbors                                      0.000976\n",
      "Name: movie, dtype: float64 \n",
      "\n",
      "production_budget \n",
      " 20000000    0.042927\n",
      "40000000    0.041951\n",
      "30000000    0.037073\n",
      "10000000    0.036098\n",
      "35000000    0.033171\n",
      "25000000    0.029268\n",
      "15000000    0.029268\n",
      "5000000     0.029268\n",
      "50000000    0.028293\n",
      "60000000    0.020488\n",
      "Name: production_budget, dtype: float64 \n",
      "\n",
      "domestic_gross_x \n",
      " 0            0.002927\n",
      "241063875    0.000976\n",
      "42469946     0.000976\n",
      "100292856    0.000976\n",
      "97670358     0.000976\n",
      "39123589     0.000976\n",
      "27758465     0.000976\n",
      "25918920     0.000976\n",
      "21488481     0.000976\n",
      "6928068      0.000976\n",
      "Name: domestic_gross_x, dtype: float64 \n",
      "\n",
      "worldwide_gross \n",
      " 1045663875    0.000976\n",
      "65759911      0.000976\n",
      "141344255     0.000976\n",
      "56445534      0.000976\n",
      "49858465      0.000976\n",
      "32618920      0.000976\n",
      "76086711      0.000976\n",
      "7576604       0.000976\n",
      "5745503       0.000976\n",
      "270944428     0.000976\n",
      "Name: worldwide_gross, dtype: float64 \n",
      "\n",
      "tndb_year \n",
      " 2011    0.134634\n",
      "2010    0.132683\n",
      "2016    0.118049\n",
      "2012    0.115122\n",
      "2013    0.113171\n",
      "2015    0.112195\n",
      "2014    0.106341\n",
      "2018    0.084878\n",
      "2017    0.082927\n",
      "Name: tndb_year, dtype: float64 \n",
      "\n",
      "title \n",
      " Pirates of the Caribbean: On Stranger Tides    0.000976\n",
      "Life of the Party                              0.000976\n",
      "Sausage Party                                  0.000976\n",
      "The Crazies                                    0.000976\n",
      "The Switch                                     0.000976\n",
      "Leap Year                                      0.000976\n",
      "The Book Thief                                 0.000976\n",
      "Take Me Home Tonight                           0.000976\n",
      "Won't Back Down                                0.000976\n",
      "Neighbors                                      0.000976\n",
      "Name: title, dtype: float64 \n",
      "\n",
      "studio \n",
      " Uni.       0.109268\n",
      "Fox        0.100488\n",
      "WB         0.092683\n",
      "BV         0.068293\n",
      "Sony       0.066341\n",
      "Par.       0.064390\n",
      "LGF        0.051707\n",
      "FoxS       0.040976\n",
      "WB (NL)    0.036098\n",
      "Focus      0.031220\n",
      "Name: studio, dtype: float64 \n",
      "\n",
      "domestic_gross_y \n",
      " 1800000.0     0.006829\n",
      "6900000.0     0.004878\n",
      "35100000.0    0.004878\n",
      "59700000.0    0.003902\n",
      "6700000.0     0.003902\n",
      "23200000.0    0.003902\n",
      "44900000.0    0.003902\n",
      "3100000.0     0.003902\n",
      "5700000.0     0.003902\n",
      "37700000.0    0.003902\n",
      "Name: domestic_gross_y, dtype: float64 \n",
      "\n",
      "foreign_gross \n",
      " 4200000.0     0.006829\n",
      "6300000.0     0.004878\n",
      "11300000.0    0.004878\n",
      "6600000.0     0.003902\n",
      "1200000.0     0.003902\n",
      "21900000.0    0.003902\n",
      "5200000.0     0.003902\n",
      "58400000.0    0.003902\n",
      "4300000.0     0.003902\n",
      "1100000.0     0.002927\n",
      "Name: foreign_gross, dtype: float64 \n",
      "\n",
      "year \n",
      " 2011    0.134634\n",
      "2010    0.132683\n",
      "2016    0.118049\n",
      "2012    0.115122\n",
      "2013    0.113171\n",
      "2015    0.112195\n",
      "2014    0.106341\n",
      "2018    0.084878\n",
      "2017    0.082927\n",
      "Name: year, dtype: float64 \n",
      "\n",
      "movie_id \n",
      " tt1298650    0.000976\n",
      "tt5619332    0.000976\n",
      "tt1700841    0.000976\n",
      "tt0455407    0.000976\n",
      "tt0889573    0.000976\n",
      "tt1216492    0.000976\n",
      "tt0816442    0.000976\n",
      "tt0810922    0.000976\n",
      "tt1870529    0.000976\n",
      "tt2004420    0.000976\n",
      "Name: movie_id, dtype: float64 \n",
      "\n",
      "primary_title \n",
      " Pirates of the Caribbean: On Stranger Tides    0.000976\n",
      "Life of the Party                              0.000976\n",
      "Sausage Party                                  0.000976\n",
      "The Crazies                                    0.000976\n",
      "The Switch                                     0.000976\n",
      "Leap Year                                      0.000976\n",
      "The Book Thief                                 0.000976\n",
      "Take Me Home Tonight                           0.000976\n",
      "Won't Back Down                                0.000976\n",
      "Neighbors                                      0.000976\n",
      "Name: primary_title, dtype: float64 \n",
      "\n",
      "original_title \n",
      " Pirates of the Caribbean: On Stranger Tides    0.000976\n",
      "Life of the Party                              0.000976\n",
      "Sausage Party                                  0.000976\n",
      "The Crazies                                    0.000976\n",
      "The Switch                                     0.000976\n",
      "Leap Year                                      0.000976\n",
      "The Book Thief                                 0.000976\n",
      "Take Me Home Tonight                           0.000976\n",
      "Won't Back Down                                0.000976\n",
      "Neighbors                                      0.000976\n",
      "Name: original_title, dtype: float64 \n",
      "\n",
      "start_year \n",
      " 2011    0.134634\n",
      "2010    0.132683\n",
      "2016    0.118049\n",
      "2012    0.115122\n",
      "2013    0.113171\n",
      "2015    0.112195\n",
      "2014    0.106341\n",
      "2018    0.084878\n",
      "2017    0.082927\n",
      "Name: start_year, dtype: float64 \n",
      "\n",
      "runtime_minutes \n",
      " 107.0    0.030244\n",
      "105.0    0.029268\n",
      "100.0    0.028293\n",
      "103.0    0.028293\n",
      "106.0    0.028293\n",
      "101.0    0.028293\n",
      "92.0     0.026341\n",
      "102.0    0.025366\n",
      "98.0     0.025366\n",
      "109.0    0.025366\n",
      "Name: runtime_minutes, dtype: float64 \n",
      "\n",
      "genres \n",
      " Adventure,Animation,Comedy    0.058537\n",
      "Comedy,Drama,Romance          0.041951\n",
      "Action,Adventure,Sci-Fi       0.040976\n",
      "Comedy                        0.035122\n",
      "Comedy,Drama                  0.032195\n",
      "Comedy,Romance                0.027317\n",
      "Drama                         0.024390\n",
      "Drama,Romance                 0.024390\n",
      "Action,Adventure,Fantasy      0.024390\n",
      "Horror,Mystery,Thriller       0.023415\n",
      "Name: genres, dtype: float64 \n",
      "\n",
      "averagerating \n",
      " 6.3    0.059512\n",
      "6.6    0.052683\n",
      "6.2    0.048780\n",
      "7.0    0.047805\n",
      "6.4    0.046829\n",
      "6.5    0.043902\n",
      "6.8    0.041951\n",
      "7.1    0.040976\n",
      "7.2    0.040000\n",
      "6.7    0.037073\n",
      "Name: averagerating, dtype: float64 \n",
      "\n",
      "numvotes \n",
      " 38667     0.001951\n",
      "447624    0.000976\n",
      "20932     0.000976\n",
      "104465    0.000976\n",
      "90661     0.000976\n",
      "86125     0.000976\n",
      "119023    0.000976\n",
      "48393     0.000976\n",
      "5915      0.000976\n",
      "266020    0.000976\n",
      "Name: numvotes, dtype: float64 \n",
      "\n"
     ]
    }
   ],
   "source": [
    "# Look for top occuring values\n",
    "print('Joined Dataframe\\n')\n",
    "for col in imdb_tndb_bom_df.columns:\n",
    "    print(col, '\\n', imdb_tndb_bom_df[col].value_counts(normalize = True).head(10), '\\n')\n"
   ]
  },
  {
   "cell_type": "markdown",
   "metadata": {},
   "source": [
    "#### Placeholder of 0\n",
    "A placeholder of 0 was in `domestic_gross_x` which is derived from the TNDB data. Instead of null values, a \\\\$0 placeholder may have been used. I will be using `domestic_gross_y` derived from the BOM data and not `domestic_gross_y` from TNDB so this placeholder can be ignored as `domestic_gross_x` will be dropped.\n",
    "\n",
    "I want to check if there are \\\\$0 placeholders for `domestic_gross_y` that is derived from the BOM data. The results show that there is only one which did not have a domestic release."
   ]
  },
  {
   "cell_type": "code",
   "execution_count": 26,
   "metadata": {},
   "outputs": [
    {
     "data": {
      "text/html": [
       "<div>\n",
       "<style scoped>\n",
       "    .dataframe tbody tr th:only-of-type {\n",
       "        vertical-align: middle;\n",
       "    }\n",
       "\n",
       "    .dataframe tbody tr th {\n",
       "        vertical-align: top;\n",
       "    }\n",
       "\n",
       "    .dataframe thead th {\n",
       "        text-align: right;\n",
       "    }\n",
       "</style>\n",
       "<table border=\"1\" class=\"dataframe\">\n",
       "  <thead>\n",
       "    <tr style=\"text-align: right;\">\n",
       "      <th></th>\n",
       "      <th>id</th>\n",
       "      <th>release_date</th>\n",
       "      <th>movie</th>\n",
       "      <th>production_budget</th>\n",
       "      <th>domestic_gross_x</th>\n",
       "      <th>worldwide_gross</th>\n",
       "      <th>tndb_year</th>\n",
       "      <th>title</th>\n",
       "      <th>studio</th>\n",
       "      <th>domestic_gross_y</th>\n",
       "      <th>foreign_gross</th>\n",
       "      <th>year</th>\n",
       "      <th>movie_id</th>\n",
       "      <th>primary_title</th>\n",
       "      <th>original_title</th>\n",
       "      <th>start_year</th>\n",
       "      <th>runtime_minutes</th>\n",
       "      <th>genres</th>\n",
       "      <th>averagerating</th>\n",
       "      <th>numvotes</th>\n",
       "    </tr>\n",
       "  </thead>\n",
       "  <tbody>\n",
       "    <tr>\n",
       "      <th>847</th>\n",
       "      <td>36</td>\n",
       "      <td>2010-10-08</td>\n",
       "      <td>It's a Wonderful Afterlife</td>\n",
       "      <td>10000000</td>\n",
       "      <td>0</td>\n",
       "      <td>1642939</td>\n",
       "      <td>2010</td>\n",
       "      <td>It's a Wonderful Afterlife</td>\n",
       "      <td>UTV</td>\n",
       "      <td>0.0</td>\n",
       "      <td>1300000.0</td>\n",
       "      <td>2010</td>\n",
       "      <td>tt1319716</td>\n",
       "      <td>It's a Wonderful Afterlife</td>\n",
       "      <td>It's a Wonderful Afterlife</td>\n",
       "      <td>2010</td>\n",
       "      <td>100.0</td>\n",
       "      <td>Comedy,Drama,Fantasy</td>\n",
       "      <td>5.4</td>\n",
       "      <td>1361</td>\n",
       "    </tr>\n",
       "  </tbody>\n",
       "</table>\n",
       "</div>"
      ],
      "text/plain": [
       "     id release_date                       movie  production_budget  \\\n",
       "847  36   2010-10-08  It's a Wonderful Afterlife           10000000   \n",
       "\n",
       "     domestic_gross_x  worldwide_gross  tndb_year                       title  \\\n",
       "847                 0          1642939       2010  It's a Wonderful Afterlife   \n",
       "\n",
       "    studio  domestic_gross_y  foreign_gross  year   movie_id  \\\n",
       "847    UTV               0.0      1300000.0  2010  tt1319716   \n",
       "\n",
       "                  primary_title              original_title  start_year  \\\n",
       "847  It's a Wonderful Afterlife  It's a Wonderful Afterlife        2010   \n",
       "\n",
       "     runtime_minutes                genres  averagerating  numvotes  \n",
       "847            100.0  Comedy,Drama,Fantasy            5.4      1361  "
      ]
     },
     "execution_count": 26,
     "metadata": {},
     "output_type": "execute_result"
    }
   ],
   "source": [
    "imdb_tndb_bom_df[imdb_tndb_bom_df['domestic_gross_y'] == 0]"
   ]
  },
  {
   "cell_type": "markdown",
   "metadata": {},
   "source": [
    "### 5. Remove Irrelevant Columns\n"
   ]
  },
  {
   "cell_type": "markdown",
   "metadata": {},
   "source": [
    "The following columns will be kept for the dataframe that will be analyzed\n",
    "- `title`\n",
    "- `release_date`\n",
    "- `start_year`\n",
    "- `production_budget`\n",
    "- `domestic_gross_y`\n",
    "- `foreign_gross`\n",
    "- `genres`\n",
    "- `averagerating`\n",
    "- `numvotes`"
   ]
  },
  {
   "cell_type": "code",
   "execution_count": 27,
   "metadata": {},
   "outputs": [
    {
     "name": "stdout",
     "output_type": "stream",
     "text": [
      "<class 'pandas.core.frame.DataFrame'>\n",
      "Int64Index: 1025 entries, 0 to 1024\n",
      "Data columns (total 9 columns):\n",
      " #   Column             Non-Null Count  Dtype         \n",
      "---  ------             --------------  -----         \n",
      " 0   release_date       1025 non-null   datetime64[ns]\n",
      " 1   production_budget  1025 non-null   int64         \n",
      " 2   title              1025 non-null   object        \n",
      " 3   domestic_gross_y   1025 non-null   float64       \n",
      " 4   foreign_gross      1025 non-null   float64       \n",
      " 5   start_year         1025 non-null   int64         \n",
      " 6   genres             1025 non-null   object        \n",
      " 7   averagerating      1025 non-null   float64       \n",
      " 8   numvotes           1025 non-null   int64         \n",
      "dtypes: datetime64[ns](1), float64(3), int64(3), object(2)\n",
      "memory usage: 80.1+ KB\n",
      "None\n"
     ]
    },
    {
     "data": {
      "text/html": [
       "<div>\n",
       "<style scoped>\n",
       "    .dataframe tbody tr th:only-of-type {\n",
       "        vertical-align: middle;\n",
       "    }\n",
       "\n",
       "    .dataframe tbody tr th {\n",
       "        vertical-align: top;\n",
       "    }\n",
       "\n",
       "    .dataframe thead th {\n",
       "        text-align: right;\n",
       "    }\n",
       "</style>\n",
       "<table border=\"1\" class=\"dataframe\">\n",
       "  <thead>\n",
       "    <tr style=\"text-align: right;\">\n",
       "      <th></th>\n",
       "      <th>release_date</th>\n",
       "      <th>production_budget</th>\n",
       "      <th>title</th>\n",
       "      <th>domestic_gross_y</th>\n",
       "      <th>foreign_gross</th>\n",
       "      <th>start_year</th>\n",
       "      <th>genres</th>\n",
       "      <th>averagerating</th>\n",
       "      <th>numvotes</th>\n",
       "    </tr>\n",
       "  </thead>\n",
       "  <tbody>\n",
       "    <tr>\n",
       "      <th>0</th>\n",
       "      <td>2011-05-20</td>\n",
       "      <td>410600000</td>\n",
       "      <td>Pirates of the Caribbean: On Stranger Tides</td>\n",
       "      <td>241100000.0</td>\n",
       "      <td>8.046000e+08</td>\n",
       "      <td>2011</td>\n",
       "      <td>Action,Adventure,Fantasy</td>\n",
       "      <td>6.6</td>\n",
       "      <td>447624</td>\n",
       "    </tr>\n",
       "    <tr>\n",
       "      <th>1</th>\n",
       "      <td>2015-05-01</td>\n",
       "      <td>330600000</td>\n",
       "      <td>Avengers: Age of Ultron</td>\n",
       "      <td>459000000.0</td>\n",
       "      <td>9.464000e+08</td>\n",
       "      <td>2015</td>\n",
       "      <td>Action,Adventure,Sci-Fi</td>\n",
       "      <td>7.3</td>\n",
       "      <td>665594</td>\n",
       "    </tr>\n",
       "    <tr>\n",
       "      <th>2</th>\n",
       "      <td>2018-04-27</td>\n",
       "      <td>300000000</td>\n",
       "      <td>Avengers: Infinity War</td>\n",
       "      <td>678800000.0</td>\n",
       "      <td>1.369500e+09</td>\n",
       "      <td>2018</td>\n",
       "      <td>Action,Adventure,Sci-Fi</td>\n",
       "      <td>8.5</td>\n",
       "      <td>670926</td>\n",
       "    </tr>\n",
       "  </tbody>\n",
       "</table>\n",
       "</div>"
      ],
      "text/plain": [
       "  release_date  production_budget  \\\n",
       "0   2011-05-20          410600000   \n",
       "1   2015-05-01          330600000   \n",
       "2   2018-04-27          300000000   \n",
       "\n",
       "                                         title  domestic_gross_y  \\\n",
       "0  Pirates of the Caribbean: On Stranger Tides       241100000.0   \n",
       "1                      Avengers: Age of Ultron       459000000.0   \n",
       "2                       Avengers: Infinity War       678800000.0   \n",
       "\n",
       "   foreign_gross  start_year                    genres  averagerating  \\\n",
       "0   8.046000e+08        2011  Action,Adventure,Fantasy            6.6   \n",
       "1   9.464000e+08        2015   Action,Adventure,Sci-Fi            7.3   \n",
       "2   1.369500e+09        2018   Action,Adventure,Sci-Fi            8.5   \n",
       "\n",
       "   numvotes  \n",
       "0    447624  \n",
       "1    665594  \n",
       "2    670926  "
      ]
     },
     "execution_count": 27,
     "metadata": {},
     "output_type": "execute_result"
    }
   ],
   "source": [
    "# Drop the columns not being used\n",
    "analysis_df = imdb_tndb_bom_df[imdb_tndb_bom_df.columns.drop(['id', 'movie', 'studio', 'movie_id', 'primary_title', 'original_title', 'domestic_gross_x', 'worldwide_gross', 'tndb_year', 'year', 'runtime_minutes'])]\n",
    "print(analysis_df.info())\n",
    "analysis_df.head(3)"
   ]
  },
  {
   "cell_type": "code",
   "execution_count": 28,
   "metadata": {},
   "outputs": [
    {
     "data": {
      "text/html": [
       "<div>\n",
       "<style scoped>\n",
       "    .dataframe tbody tr th:only-of-type {\n",
       "        vertical-align: middle;\n",
       "    }\n",
       "\n",
       "    .dataframe tbody tr th {\n",
       "        vertical-align: top;\n",
       "    }\n",
       "\n",
       "    .dataframe thead th {\n",
       "        text-align: right;\n",
       "    }\n",
       "</style>\n",
       "<table border=\"1\" class=\"dataframe\">\n",
       "  <thead>\n",
       "    <tr style=\"text-align: right;\">\n",
       "      <th></th>\n",
       "      <th>production_budget</th>\n",
       "      <th>domestic_gross_y</th>\n",
       "      <th>foreign_gross</th>\n",
       "      <th>start_year</th>\n",
       "      <th>averagerating</th>\n",
       "      <th>numvotes</th>\n",
       "    </tr>\n",
       "  </thead>\n",
       "  <tbody>\n",
       "    <tr>\n",
       "      <th>count</th>\n",
       "      <td>1025.00</td>\n",
       "      <td>1025.00</td>\n",
       "      <td>1025.00</td>\n",
       "      <td>1025.00</td>\n",
       "      <td>1025.00</td>\n",
       "      <td>1025.00</td>\n",
       "    </tr>\n",
       "    <tr>\n",
       "      <th>mean</th>\n",
       "      <td>52763544.05</td>\n",
       "      <td>69586337.84</td>\n",
       "      <td>105851111.34</td>\n",
       "      <td>2013.66</td>\n",
       "      <td>6.46</td>\n",
       "      <td>146317.85</td>\n",
       "    </tr>\n",
       "    <tr>\n",
       "      <th>std</th>\n",
       "      <td>58982785.69</td>\n",
       "      <td>89888424.34</td>\n",
       "      <td>170359756.43</td>\n",
       "      <td>2.55</td>\n",
       "      <td>0.94</td>\n",
       "      <td>178041.96</td>\n",
       "    </tr>\n",
       "    <tr>\n",
       "      <th>min</th>\n",
       "      <td>50000.00</td>\n",
       "      <td>0.00</td>\n",
       "      <td>0.00</td>\n",
       "      <td>2010.00</td>\n",
       "      <td>1.60</td>\n",
       "      <td>24.00</td>\n",
       "    </tr>\n",
       "    <tr>\n",
       "      <th>25%</th>\n",
       "      <td>13000000.00</td>\n",
       "      <td>14300000.00</td>\n",
       "      <td>8600000.00</td>\n",
       "      <td>2011.00</td>\n",
       "      <td>5.90</td>\n",
       "      <td>37939.00</td>\n",
       "    </tr>\n",
       "    <tr>\n",
       "      <th>50%</th>\n",
       "      <td>30000000.00</td>\n",
       "      <td>39300000.00</td>\n",
       "      <td>36400000.00</td>\n",
       "      <td>2014.00</td>\n",
       "      <td>6.50</td>\n",
       "      <td>86118.00</td>\n",
       "    </tr>\n",
       "    <tr>\n",
       "      <th>75%</th>\n",
       "      <td>68000000.00</td>\n",
       "      <td>84800000.00</td>\n",
       "      <td>115700000.00</td>\n",
       "      <td>2016.00</td>\n",
       "      <td>7.10</td>\n",
       "      <td>181189.00</td>\n",
       "    </tr>\n",
       "    <tr>\n",
       "      <th>max</th>\n",
       "      <td>410600000.00</td>\n",
       "      <td>700100000.00</td>\n",
       "      <td>1369500000.00</td>\n",
       "      <td>2018.00</td>\n",
       "      <td>8.80</td>\n",
       "      <td>1841066.00</td>\n",
       "    </tr>\n",
       "  </tbody>\n",
       "</table>\n",
       "</div>"
      ],
      "text/plain": [
       "      production_budget domestic_gross_y  foreign_gross start_year  \\\n",
       "count           1025.00          1025.00        1025.00    1025.00   \n",
       "mean        52763544.05      69586337.84   105851111.34    2013.66   \n",
       "std         58982785.69      89888424.34   170359756.43       2.55   \n",
       "min            50000.00             0.00           0.00    2010.00   \n",
       "25%         13000000.00      14300000.00     8600000.00    2011.00   \n",
       "50%         30000000.00      39300000.00    36400000.00    2014.00   \n",
       "75%         68000000.00      84800000.00   115700000.00    2016.00   \n",
       "max        410600000.00     700100000.00  1369500000.00    2018.00   \n",
       "\n",
       "      averagerating    numvotes  \n",
       "count       1025.00     1025.00  \n",
       "mean           6.46   146317.85  \n",
       "std            0.94   178041.96  \n",
       "min            1.60       24.00  \n",
       "25%            5.90    37939.00  \n",
       "50%            6.50    86118.00  \n",
       "75%            7.10   181189.00  \n",
       "max            8.80  1841066.00  "
      ]
     },
     "execution_count": 28,
     "metadata": {},
     "output_type": "execute_result"
    }
   ],
   "source": [
    "# Summary statistics of TNDB dataframe\n",
    "analysis_df.describe().apply(lambda s: s.apply('{0:.2f}'.format))"
   ]
  },
  {
   "cell_type": "markdown",
   "metadata": {},
   "source": [
    "### 6. Calculate worldwide gross revenue and profit estimate"
   ]
  },
  {
   "cell_type": "code",
   "execution_count": 29,
   "metadata": {},
   "outputs": [
    {
     "name": "stderr",
     "output_type": "stream",
     "text": [
      "C:\\Users\\kevin\\AppData\\Local\\Temp/ipykernel_39572/113827421.py:2: SettingWithCopyWarning: \n",
      "A value is trying to be set on a copy of a slice from a DataFrame.\n",
      "Try using .loc[row_indexer,col_indexer] = value instead\n",
      "\n",
      "See the caveats in the documentation: https://pandas.pydata.org/pandas-docs/stable/user_guide/indexing.html#returning-a-view-versus-a-copy\n",
      "  analysis_df['worldwide_gross'] = analysis_df['domestic_gross_y'] + analysis_df['foreign_gross']\n",
      "C:\\Users\\kevin\\AppData\\Local\\Temp/ipykernel_39572/113827421.py:5: SettingWithCopyWarning: \n",
      "A value is trying to be set on a copy of a slice from a DataFrame.\n",
      "Try using .loc[row_indexer,col_indexer] = value instead\n",
      "\n",
      "See the caveats in the documentation: https://pandas.pydata.org/pandas-docs/stable/user_guide/indexing.html#returning-a-view-versus-a-copy\n",
      "  analysis_df['profit_estimate'] = analysis_df['worldwide_gross'] - analysis_df['production_budget']\n"
     ]
    },
    {
     "data": {
      "text/html": [
       "<div>\n",
       "<style scoped>\n",
       "    .dataframe tbody tr th:only-of-type {\n",
       "        vertical-align: middle;\n",
       "    }\n",
       "\n",
       "    .dataframe tbody tr th {\n",
       "        vertical-align: top;\n",
       "    }\n",
       "\n",
       "    .dataframe thead th {\n",
       "        text-align: right;\n",
       "    }\n",
       "</style>\n",
       "<table border=\"1\" class=\"dataframe\">\n",
       "  <thead>\n",
       "    <tr style=\"text-align: right;\">\n",
       "      <th></th>\n",
       "      <th>release_date</th>\n",
       "      <th>production_budget</th>\n",
       "      <th>title</th>\n",
       "      <th>domestic_gross_y</th>\n",
       "      <th>foreign_gross</th>\n",
       "      <th>start_year</th>\n",
       "      <th>genres</th>\n",
       "      <th>averagerating</th>\n",
       "      <th>numvotes</th>\n",
       "      <th>worldwide_gross</th>\n",
       "      <th>profit_estimate</th>\n",
       "    </tr>\n",
       "  </thead>\n",
       "  <tbody>\n",
       "    <tr>\n",
       "      <th>0</th>\n",
       "      <td>2011-05-20</td>\n",
       "      <td>410600000</td>\n",
       "      <td>Pirates of the Caribbean: On Stranger Tides</td>\n",
       "      <td>241100000.0</td>\n",
       "      <td>8.046000e+08</td>\n",
       "      <td>2011</td>\n",
       "      <td>Action,Adventure,Fantasy</td>\n",
       "      <td>6.6</td>\n",
       "      <td>447624</td>\n",
       "      <td>1.045700e+09</td>\n",
       "      <td>6.351000e+08</td>\n",
       "    </tr>\n",
       "    <tr>\n",
       "      <th>1</th>\n",
       "      <td>2015-05-01</td>\n",
       "      <td>330600000</td>\n",
       "      <td>Avengers: Age of Ultron</td>\n",
       "      <td>459000000.0</td>\n",
       "      <td>9.464000e+08</td>\n",
       "      <td>2015</td>\n",
       "      <td>Action,Adventure,Sci-Fi</td>\n",
       "      <td>7.3</td>\n",
       "      <td>665594</td>\n",
       "      <td>1.405400e+09</td>\n",
       "      <td>1.074800e+09</td>\n",
       "    </tr>\n",
       "    <tr>\n",
       "      <th>2</th>\n",
       "      <td>2018-04-27</td>\n",
       "      <td>300000000</td>\n",
       "      <td>Avengers: Infinity War</td>\n",
       "      <td>678800000.0</td>\n",
       "      <td>1.369500e+09</td>\n",
       "      <td>2018</td>\n",
       "      <td>Action,Adventure,Sci-Fi</td>\n",
       "      <td>8.5</td>\n",
       "      <td>670926</td>\n",
       "      <td>2.048300e+09</td>\n",
       "      <td>1.748300e+09</td>\n",
       "    </tr>\n",
       "  </tbody>\n",
       "</table>\n",
       "</div>"
      ],
      "text/plain": [
       "  release_date  production_budget  \\\n",
       "0   2011-05-20          410600000   \n",
       "1   2015-05-01          330600000   \n",
       "2   2018-04-27          300000000   \n",
       "\n",
       "                                         title  domestic_gross_y  \\\n",
       "0  Pirates of the Caribbean: On Stranger Tides       241100000.0   \n",
       "1                      Avengers: Age of Ultron       459000000.0   \n",
       "2                       Avengers: Infinity War       678800000.0   \n",
       "\n",
       "   foreign_gross  start_year                    genres  averagerating  \\\n",
       "0   8.046000e+08        2011  Action,Adventure,Fantasy            6.6   \n",
       "1   9.464000e+08        2015   Action,Adventure,Sci-Fi            7.3   \n",
       "2   1.369500e+09        2018   Action,Adventure,Sci-Fi            8.5   \n",
       "\n",
       "   numvotes  worldwide_gross  profit_estimate  \n",
       "0    447624     1.045700e+09     6.351000e+08  \n",
       "1    665594     1.405400e+09     1.074800e+09  \n",
       "2    670926     2.048300e+09     1.748300e+09  "
      ]
     },
     "execution_count": 29,
     "metadata": {},
     "output_type": "execute_result"
    }
   ],
   "source": [
    "# Calculate worldwide gross revenue\n",
    "analysis_df['worldwide_gross'] = analysis_df['domestic_gross_y'] + analysis_df['foreign_gross']\n",
    "\n",
    "# Calculate estimated profit\n",
    "analysis_df['profit_estimate'] = analysis_df['worldwide_gross'] - analysis_df['production_budget']\n",
    "analysis_df.head()\n",
    "\n",
    "analysis_df.head(3)"
   ]
  },
  {
   "cell_type": "markdown",
   "metadata": {},
   "source": [
    "### 7. Convert Genre string to list of strings\n",
    "The information in the `genres` column is a long string with genres separated by a comma (,). I will convert this to a list of strings by splitting the string by the comma and appending each to a list that will be stored in the `genres` column."
   ]
  },
  {
   "cell_type": "code",
   "execution_count": 30,
   "metadata": {},
   "outputs": [
    {
     "name": "stderr",
     "output_type": "stream",
     "text": [
      "C:\\Users\\kevin\\AppData\\Local\\Temp/ipykernel_39572/602391359.py:4: SettingWithCopyWarning: \n",
      "A value is trying to be set on a copy of a slice from a DataFrame.\n",
      "Try using .loc[row_indexer,col_indexer] = value instead\n",
      "\n",
      "See the caveats in the documentation: https://pandas.pydata.org/pandas-docs/stable/user_guide/indexing.html#returning-a-view-versus-a-copy\n",
      "  analysis_df['genres'] = analysis_df['genres'].apply(str)\n",
      "C:\\Users\\kevin\\AppData\\Local\\Temp/ipykernel_39572/602391359.py:11: SettingWithCopyWarning: \n",
      "A value is trying to be set on a copy of a slice from a DataFrame.\n",
      "Try using .loc[row_indexer,col_indexer] = value instead\n",
      "\n",
      "See the caveats in the documentation: https://pandas.pydata.org/pandas-docs/stable/user_guide/indexing.html#returning-a-view-versus-a-copy\n",
      "  analysis_df['genres'] = analysis_df['genres'].apply(split_genres)\n"
     ]
    },
    {
     "data": {
      "text/html": [
       "<div>\n",
       "<style scoped>\n",
       "    .dataframe tbody tr th:only-of-type {\n",
       "        vertical-align: middle;\n",
       "    }\n",
       "\n",
       "    .dataframe tbody tr th {\n",
       "        vertical-align: top;\n",
       "    }\n",
       "\n",
       "    .dataframe thead th {\n",
       "        text-align: right;\n",
       "    }\n",
       "</style>\n",
       "<table border=\"1\" class=\"dataframe\">\n",
       "  <thead>\n",
       "    <tr style=\"text-align: right;\">\n",
       "      <th></th>\n",
       "      <th>release_date</th>\n",
       "      <th>production_budget</th>\n",
       "      <th>title</th>\n",
       "      <th>domestic_gross_y</th>\n",
       "      <th>foreign_gross</th>\n",
       "      <th>start_year</th>\n",
       "      <th>genres</th>\n",
       "      <th>averagerating</th>\n",
       "      <th>numvotes</th>\n",
       "      <th>worldwide_gross</th>\n",
       "      <th>profit_estimate</th>\n",
       "    </tr>\n",
       "  </thead>\n",
       "  <tbody>\n",
       "    <tr>\n",
       "      <th>0</th>\n",
       "      <td>2011-05-20</td>\n",
       "      <td>410600000</td>\n",
       "      <td>Pirates of the Caribbean: On Stranger Tides</td>\n",
       "      <td>241100000.0</td>\n",
       "      <td>8.046000e+08</td>\n",
       "      <td>2011</td>\n",
       "      <td>[Action, Adventure, Fantasy]</td>\n",
       "      <td>6.6</td>\n",
       "      <td>447624</td>\n",
       "      <td>1.045700e+09</td>\n",
       "      <td>6.351000e+08</td>\n",
       "    </tr>\n",
       "    <tr>\n",
       "      <th>1</th>\n",
       "      <td>2015-05-01</td>\n",
       "      <td>330600000</td>\n",
       "      <td>Avengers: Age of Ultron</td>\n",
       "      <td>459000000.0</td>\n",
       "      <td>9.464000e+08</td>\n",
       "      <td>2015</td>\n",
       "      <td>[Action, Adventure, Sci-Fi]</td>\n",
       "      <td>7.3</td>\n",
       "      <td>665594</td>\n",
       "      <td>1.405400e+09</td>\n",
       "      <td>1.074800e+09</td>\n",
       "    </tr>\n",
       "    <tr>\n",
       "      <th>2</th>\n",
       "      <td>2018-04-27</td>\n",
       "      <td>300000000</td>\n",
       "      <td>Avengers: Infinity War</td>\n",
       "      <td>678800000.0</td>\n",
       "      <td>1.369500e+09</td>\n",
       "      <td>2018</td>\n",
       "      <td>[Action, Adventure, Sci-Fi]</td>\n",
       "      <td>8.5</td>\n",
       "      <td>670926</td>\n",
       "      <td>2.048300e+09</td>\n",
       "      <td>1.748300e+09</td>\n",
       "    </tr>\n",
       "  </tbody>\n",
       "</table>\n",
       "</div>"
      ],
      "text/plain": [
       "  release_date  production_budget  \\\n",
       "0   2011-05-20          410600000   \n",
       "1   2015-05-01          330600000   \n",
       "2   2018-04-27          300000000   \n",
       "\n",
       "                                         title  domestic_gross_y  \\\n",
       "0  Pirates of the Caribbean: On Stranger Tides       241100000.0   \n",
       "1                      Avengers: Age of Ultron       459000000.0   \n",
       "2                       Avengers: Infinity War       678800000.0   \n",
       "\n",
       "   foreign_gross  start_year                        genres  averagerating  \\\n",
       "0   8.046000e+08        2011  [Action, Adventure, Fantasy]            6.6   \n",
       "1   9.464000e+08        2015   [Action, Adventure, Sci-Fi]            7.3   \n",
       "2   1.369500e+09        2018   [Action, Adventure, Sci-Fi]            8.5   \n",
       "\n",
       "   numvotes  worldwide_gross  profit_estimate  \n",
       "0    447624     1.045700e+09     6.351000e+08  \n",
       "1    665594     1.405400e+09     1.074800e+09  \n",
       "2    670926     2.048300e+09     1.748300e+09  "
      ]
     },
     "execution_count": 30,
     "metadata": {},
     "output_type": "execute_result"
    }
   ],
   "source": [
    "# Convert Genres into a list\n",
    "\n",
    "# Convert all records in `genres` to string\n",
    "analysis_df['genres'] = analysis_df['genres'].apply(str)\n",
    "\n",
    "# Function to take a column and split the string by commas\n",
    "def split_genres(column):\n",
    "    # coerce to string\n",
    "    return column.split(',')\n",
    "\n",
    "analysis_df['genres'] = analysis_df['genres'].apply(split_genres)\n",
    "analysis_df.head(3)"
   ]
  },
  {
   "cell_type": "markdown",
   "metadata": {},
   "source": [
    "# Data Analysis\n",
    "\n",
    "## What is the total number of movies in this analysis?"
   ]
  },
  {
   "cell_type": "code",
   "execution_count": 32,
   "metadata": {},
   "outputs": [
    {
     "name": "stdout",
     "output_type": "stream",
     "text": [
      "Total number of movies in TNDB data: 5782\n",
      "Total number of movies in BOM data: 3387\n",
      "Total number of movies in filtered IMDB data: 73271\n",
      "Total number of movies in this analysis: 1025\n"
     ]
    }
   ],
   "source": [
    "print('Total number of movies in TNDB data:', len(tndb_df))\n",
    "print('Total number of movies in BOM data:', len(bom_df))\n",
    "print('Total number of movies in filtered IMDB data:', len(imdb_df_filtered))\n",
    "print('Total number of movies in this analysis:', len(analysis_df))"
   ]
  },
  {
   "cell_type": "markdown",
   "metadata": {},
   "source": [
    "## What is the timespan of the movies in this data?"
   ]
  },
  {
   "cell_type": "code",
   "execution_count": 33,
   "metadata": {},
   "outputs": [
    {
     "name": "stdout",
     "output_type": "stream",
     "text": [
      "2010  to  2018\n"
     ]
    }
   ],
   "source": [
    "min_release_date = round(analysis_df['start_year'].min())\n",
    "max_release_date = round(analysis_df['start_year'].max())\n",
    "print(min_release_date, ' to ', max_release_date)"
   ]
  },
  {
   "cell_type": "markdown",
   "metadata": {},
   "source": [
    "## What is the mean and median ranking for all movies?"
   ]
  },
  {
   "cell_type": "code",
   "execution_count": 34,
   "metadata": {},
   "outputs": [
    {
     "name": "stdout",
     "output_type": "stream",
     "text": [
      "Mean IMDb ranking: 6.5\n",
      "Median IMDb ranking: 6.5\n"
     ]
    }
   ],
   "source": [
    "print('Mean IMDb ranking:', round(analysis_df['averagerating'].mean(), 1))\n",
    "print('Median IMDb ranking:', analysis_df['averagerating'].median())"
   ]
  },
  {
   "cell_type": "markdown",
   "metadata": {},
   "source": [
    "## What is the distribution of movie rankings?"
   ]
  },
  {
   "cell_type": "code",
   "execution_count": 31,
   "metadata": {},
   "outputs": [],
   "source": [
    "import matplotlib.pyplot as plt\n",
    "%matplotlib inline\n",
    "plt.rcParams['figure.figsize'] = (8, 6)\n",
    "plt.style.use('seaborn-whitegrid')"
   ]
  },
  {
   "cell_type": "code",
   "execution_count": 35,
   "metadata": {},
   "outputs": [
    {
     "data": {
      "text/plain": [
       "Text(7.15, 129.465, 'Median\\n6.5')"
      ]
     },
     "execution_count": 35,
     "metadata": {},
     "output_type": "execute_result"
    },
    {
     "data": {
      "image/png": "[encoded data removed]",
      "text/plain": [
       "<Figure size 576x432 with 1 Axes>"
      ]
     },
     "metadata": {},
     "output_type": "display_data"
    }
   ],
   "source": [
    "# Make Plot\n",
    "analysis_df.hist(column = 'averagerating', bins=25, color = 'c')\n",
    "\n",
    "# Set x, y-axis labels and title\n",
    "plt.ylabel('count', fontsize = 12)\n",
    "plt.xlabel('IMDb Ranking', fontsize = 12)\n",
    "plt.title('Distribution of Average IMDb Ranking', fontdict={'fontsize': 15})\n",
    "\n",
    "# Draw a verticle line and post the median\n",
    "min_ylim, max_ylim = plt.ylim()\n",
    "x = imdb_tndb_bom_df['averagerating']\n",
    "plt.axvline(x.median(), color='k', linestyle='dashed', linewidth=1) # Makes verticle line\n",
    "plt.text(x.median()*1.1, max_ylim*0.9, 'Median\\n{:.1f}'.format(x.median())) # Adds text\n",
    "\n",
    "#plt.savefig('./img/fig/hist_ranking.png', bbox_inches = 'tight')"
   ]
  },
  {
   "cell_type": "markdown",
   "metadata": {},
   "source": [
    "## What is the distribution of worldwide movie revenue?"
   ]
  },
  {
   "cell_type": "code",
   "execution_count": 36,
   "metadata": {},
   "outputs": [
    {
     "name": "stdout",
     "output_type": "stream",
     "text": [
      "Median Worldwide Gross Revenue: 79100000.0\n"
     ]
    },
    {
     "data": {
      "text/plain": [
       "Text(86984345.80000001, 60.480000000000004, 'Median \\n~$79,080,000')"
      ]
     },
     "execution_count": 36,
     "metadata": {},
     "output_type": "execute_result"
    },
    {
     "data": {
      "image/png": "[encoded data removed]",
      "text/plain": [
       "<Figure size 576x432 with 1 Axes>"
      ]
     },
     "metadata": {},
     "output_type": "display_data"
    }
   ],
   "source": [
    "print('Median Worldwide Gross Revenue:', round(imdb_tndb_bom_df['worldwide_gross'].median(), -5))\n",
    "\n",
    "# Make PLot\n",
    "analysis_df.hist(column = 'worldwide_gross', bins=500, color = 'c')\n",
    "\n",
    "# Set x, y-axis labels and title\n",
    "plt.ylabel('count', fontsize = 12)\n",
    "plt.xlabel('\\nWorldwide Revenue ($USD)', fontsize = 12)\n",
    "plt.title('Distribution of Worldwide Revenue', fontdict={'fontsize': 15})\n",
    "\n",
    "# Set x-axis limit because heavilty left-skewed\n",
    "plt.xlim(xmin = 0, xmax = 500000000)\n",
    "\n",
    "# Set x-axis to have normal ticks and not exponential\n",
    "plt.gca().xaxis.set_major_formatter(plt.matplotlib.ticker.StrMethodFormatter('{x:,.0f}'))\n",
    "# reference Weiner, Iddo @ https://stackoverflow.com/a/70272061/1144724\n",
    "plt.xticks(rotation = 45)\n",
    "\n",
    "# Draw a verticle line and post the median\n",
    "min_ylim, max_ylim = plt.ylim()\n",
    "x = imdb_tndb_bom_df['worldwide_gross']\n",
    "plt.axvline(x.median(), color='k', linestyle='dashed', linewidth=1) # Makes verticle line\n",
    "plt.text(x.median()*1.1, max_ylim*0.9, 'Median \\n~${:,.0f}'.format(round(x.median(), -4))) # Adds text\n",
    "# Reference: Porripeikko @ https://stackoverflow.com/a/52961228/1144724\n",
    "\n",
    "# Save plot\n",
    "#plt.savefig('./img/fig/hist_worldwide_revenue.png', bbox_inches = 'tight')"
   ]
  },
  {
   "cell_type": "markdown",
   "metadata": {},
   "source": [
    "## What is the distribution of movie production budget?"
   ]
  },
  {
   "cell_type": "code",
   "execution_count": 37,
   "metadata": {},
   "outputs": [
    {
     "name": "stdout",
     "output_type": "stream",
     "text": [
      "Median Production Budget: 30000000\n"
     ]
    },
    {
     "data": {
      "text/plain": [
       "Text(33000000.000000004, 81.27, 'Median: \\n$30,000,000')"
      ]
     },
     "execution_count": 37,
     "metadata": {},
     "output_type": "execute_result"
    },
    {
     "data": {
      "image/png": "[encoded data removed]",
      "text/plain": [
       "<Figure size 576x432 with 1 Axes>"
      ]
     },
     "metadata": {},
     "output_type": "display_data"
    }
   ],
   "source": [
    "# Return and print median\n",
    "print('Median Production Budget:', round(imdb_tndb_bom_df['production_budget'].median()))\n",
    "\n",
    "# Make plot\n",
    "analysis_df.hist(column = 'production_budget', bins=100, color = 'c')\n",
    "\n",
    "# Set x, y-axis labels and title\n",
    "plt.ylabel('frequency', fontsize = 12)\n",
    "plt.xlabel('\\nWorldwide Revenue ($USD)', fontsize = 12)\n",
    "plt.title('Distribution of Movie Production Budget', fontdict={'fontsize': 15})\n",
    "\n",
    "# Set x-axis limit because heavilty left-skewed\n",
    "plt.xlim(xmin = 0, xmax = 200000000)\n",
    "\n",
    "# Set x-axis to have normal ticks and not exponential\n",
    "plt.gca().xaxis.set_major_formatter(plt.matplotlib.ticker.StrMethodFormatter('{x:,.0f}'))\n",
    "plt.xticks(rotation = 45)\n",
    "\n",
    "# Draw a verticle line and post the median\n",
    "min_ylim, max_ylim = plt.ylim()\n",
    "x = imdb_tndb_bom_df['production_budget']\n",
    "plt.axvline(x.median(), color='k', linestyle='dashed', linewidth=1) # Makes verticle line\n",
    "plt.text(x.median()*1.1, max_ylim*0.9, 'Median: \\n${:,.0f}'.format(round(x.median()))) # Adds text\n",
    "\n",
    "#plt.savefig('./img/fig/hist_production_budget.png', bbox_inches = 'tight')"
   ]
  },
  {
   "cell_type": "markdown",
   "metadata": {},
   "source": [
    "## Does production budget matter for profitable and highly ranked movies?"
   ]
  },
  {
   "cell_type": "code",
   "execution_count": 38,
   "metadata": {},
   "outputs": [
    {
     "name": "stdout",
     "output_type": "stream",
     "text": [
      "Percent of movies that made a profit 82.82926829268293\n"
     ]
    },
    {
     "data": {
      "image/png": "[encoded data removed]",
      "text/plain": [
       "<Figure size 576x432 with 2 Axes>"
      ]
     },
     "metadata": {},
     "output_type": "display_data"
    }
   ],
   "source": [
    "# scatterplot of Budget versus Revenue with grouped by ranking\n",
    "\n",
    "# How many movies made a profit?\n",
    "print('Percent of movies that made a profit', (len(analysis_df[analysis_df['profit_estimate'] >= 0]) / len(analysis_df) * 100))\n",
    "\n",
    "# Gather required data\n",
    "x = analysis_df['profit_estimate']\n",
    "y = analysis_df['production_budget']\n",
    "colors = analysis_df['averagerating']\n",
    "\n",
    "# Make figure\n",
    "fig2 = plt.figure()\n",
    "scatter_plot = plt.scatter(x, y, c = colors, alpha = 0.8, cmap = 'Spectral')\n",
    "\n",
    "# Add x-axis\n",
    "plt.xscale('symlog', linthresh = 100000)\n",
    "plt.xlim((-250000000,2e+09))\n",
    "plt.xlabel('\\nWorldwide Profit ($USD)', fontsize = 12)\n",
    "plt.title('Rank of Movie\\nProfit vs Production Budget', fontdict={'fontsize': 15})\n",
    "plt.gca().xaxis.set_major_formatter(plt.matplotlib.ticker.StrMethodFormatter('{x:,.0f}'))\n",
    "plt.xticks(rotation = 45)\n",
    "\n",
    "# y-axis\n",
    "plt.yscale('log')\n",
    "plt.ylabel('Production Budget', fontsize = 12)\n",
    "plt.gca().yaxis.set_major_formatter(plt.matplotlib.ticker.StrMethodFormatter('{x:,.0f}'))\n",
    "\n",
    "# Makes verticle line at 0\n",
    "plt.axvline(0, color='k', linestyle='dashed', linewidth=1) \n",
    "\n",
    "# Give colorbar a title\n",
    "clb = plt.colorbar()\n",
    "clb.ax.set_title('IMDb\\nRank')\n",
    "#fig2.savefig('./img/fig/scatter_profit_versus_budget.png', bbox_inches = 'tight')\n",
    "\n"
   ]
  },
  {
   "cell_type": "markdown",
   "metadata": {},
   "source": [
    "### Discussion\n",
    "Profit was estimated by subtracting worldwide gross revenue by the production budget. 83% of movies in this analysis generated a profit and 17% did not. There are movies with high IMDb raning (>7) and movies with high production budget (> \\\\$100 million) that did not make a profit. Conversly there are some movies with low ranking and low budget that did make a profit."
   ]
  },
  {
   "cell_type": "markdown",
   "metadata": {},
   "source": [
    "### What is the average budget for each discrete ranking?"
   ]
  },
  {
   "cell_type": "code",
   "execution_count": 39,
   "metadata": {},
   "outputs": [
    {
     "data": {
      "image/png": "[encoded data removed]",
      "text/plain": [
       "<Figure size 576x432 with 1 Axes>"
      ]
     },
     "metadata": {},
     "output_type": "display_data"
    }
   ],
   "source": [
    "# Average budget for each ranked value\n",
    "\n",
    "# Extract necessary data: ranking (averagerating), production_budget\n",
    "boxplot_ranking_budget = analysis_df.filter(['production_budget', 'averagerating'])\n",
    "\n",
    "# Turn continuous ranking data into categorical data\n",
    "boxplot_ranking_budget['averagerating'] = round(boxplot_ranking_budget['averagerating']) # floor round the rankings\n",
    "\n",
    "# Produce the boxplot\n",
    "box = boxplot_ranking_budget.boxplot(column = 'production_budget', by='averagerating', \\\n",
    "                                     notch = True, patch_artist=True, color = 'orange')\n",
    "# Set Title\n",
    "plt.suptitle('')\n",
    "plt.title('Production Budget \\nfor each discrete IMDb Ranking', fontdict={'fontsize': 15})\n",
    "\n",
    "# x-axis \n",
    "plt.xlabel('Ranking', fontsize = 12)\n",
    "plt.xticks(rotation = 0)\n",
    "\n",
    "# y-axis\n",
    "plt.ylabel('Production Budget\\n ($USD)', fontsize = 12)\n",
    "plt.gca().yaxis.set_major_formatter(plt.matplotlib.ticker.StrMethodFormatter('{x:,.0f}'))\n",
    "\n",
    "# Save the boxplot to file\n",
    "#plt.savefig('./img/fig/boxplot_ranking_budget.png', bbox_inches = 'tight')"
   ]
  },
  {
   "cell_type": "markdown",
   "metadata": {},
   "source": [
    "#### Discussion\n",
    "The median production budget for each discrete IMDb ranking is about the same. There are many values outside the IQR for movies ranked between 6 to 8. Movies ranked between 9 to 10 did have a higher median production budget but there are very few movies in this ranking."
   ]
  },
  {
   "cell_type": "markdown",
   "metadata": {},
   "source": [
    "### What is the median worldwide revenue generated for each genre?"
   ]
  },
  {
   "cell_type": "code",
   "execution_count": 40,
   "metadata": {
    "scrolled": true
   },
   "outputs": [
    {
     "data": {
      "image/png": "[encoded data removed]",
      "text/plain": [
       "<Figure size 576x432 with 1 Axes>"
      ]
     },
     "metadata": {},
     "output_type": "display_data"
    }
   ],
   "source": [
    "# Stacked Barplot showing domestic and foregin revenue grouped by genre\n",
    "# Reference: jezrael @ https://stackoverflow.com/questions/72272575/plotting-a-stacked-column-containing-a-categorical-list-using-pandas#72272671\n",
    "\n",
    "# filter needed data from imdb_tndb_bom_df\n",
    "barplot_stacked_df = analysis_df.filter(['domestic_gross_y', 'foreign_gross', 'genres'])\n",
    "df = barplot_stacked_df.explode('genres').melt('genres').pivot_table(index='genres', columns='variable', \\\n",
    "                                                                     values='value', aggfunc='median')\n",
    "# Make stacked bar chart\n",
    "barplot_stacked_revenue = df.plot.bar(stacked=True, color=['blue', 'orange']) # Set color https://www.tutorialkart.com/matplotlib-tutorial/matplotlib-pyplot-bar-plot-color/\n",
    "\n",
    "# Remove legend\n",
    "plt.legend(['Domestic', 'Foreign'], title = 'Revenue Source')\n",
    "\n",
    "# x-axis\n",
    "plt.xlabel('Genre', fontsize = 12)\n",
    "plt.title('Median Domestic and Foreign Revenue by Genre\\n2010-2018', fontdict={'fontsize': 15})\n",
    "plt.xticks(rotation = 45)\n",
    "\n",
    "# y-axis\n",
    "plt.ylabel('Median Revenue\\n($USD)', fontsize = 12)\n",
    "plt.gca().yaxis.set_major_formatter(plt.matplotlib.ticker.StrMethodFormatter('{x:,.0f}'))\n",
    "\n",
    "# Save plot to file\n",
    "#plt.savefig('./img/fig/barplot_genre_revenue.png', bbox_inches = 'tight')"
   ]
  },
  {
   "cell_type": "markdown",
   "metadata": {},
   "source": [
    "#### Discussion\n",
    "Action, adventure, animation, and sci-fi have the highest total worldwide revenue. A movie with one or more of these genres would be more likely to generate enough revenue to sustain this project."
   ]
  },
  {
   "cell_type": "markdown",
   "metadata": {},
   "source": [
    "### What is the production budget for each genre?"
   ]
  },
  {
   "cell_type": "code",
   "execution_count": 42,
   "metadata": {},
   "outputs": [
    {
     "data": {
      "image/png": "[encoded data removed]",
      "text/plain": [
       "<Figure size 576x432 with 1 Axes>"
      ]
     },
     "metadata": {},
     "output_type": "display_data"
    }
   ],
   "source": [
    "# Box plot showing produciton budget per genre\n",
    "\n",
    "# Filter necessary variables\n",
    "barplot_genre_budget = analysis_df.filter(['production_budget', 'genres'])\n",
    "df = barplot_genre_budget.explode('genres').melt('genres').pivot_table(index='genres', columns='variable', values='value', aggfunc='median')\n",
    "\n",
    "# Make stacked bar chart\n",
    "df.plot.bar(stacked=True, color = 'blue') # Set color https://www.tutorialkart.com/matplotlib-tutorial/matplotlib-pyplot-bar-plot-color/\n",
    "\n",
    "# Set title\n",
    "plt.title('Median Produciton Budget by Movie Genre\\n2010-2018', fontdict={'fontsize': 15})\n",
    "\n",
    "# Remove legend\n",
    "plt.legend('', frameon = False)\n",
    "\n",
    "# X-axis\n",
    "plt.xlabel('Genre', fontsize = 12)\n",
    "plt.xticks(rotation = 45)\n",
    "\n",
    "# Y-axis\n",
    "plt.ylabel('Median Production Budget\\n($USD)', fontsize = 12)\n",
    "plt.gca().yaxis.set_major_formatter(plt.matplotlib.ticker.StrMethodFormatter('{x:,.0f}')) # set y-axis tick labels\n",
    "\n",
    "# Save plot to file\n",
    "#plt.savefig('./img/fig/barplot_genre_budget.png', bbox_inches = 'tight')"
   ]
  },
  {
   "cell_type": "markdown",
   "metadata": {},
   "source": [
    "#### Discussion\n",
    "Along with having a high worldwide gross revenue, the genres of action, adventure, animation, and science fiction also have the highest production budgets of all the genres. Movies in the action, adventure, animation, and science fiction genres have a heavy use of computer generated imagry (CGI) which would explain the high production budgets."
   ]
  },
  {
   "cell_type": "markdown",
   "metadata": {},
   "source": [
    "### How does the different genres compare with IMDb ranking?"
   ]
  },
  {
   "cell_type": "code",
   "execution_count": 43,
   "metadata": {},
   "outputs": [
    {
     "data": {
      "text/plain": [
       "<matplotlib.legend.Legend at 0x22ceea82610>"
      ]
     },
     "execution_count": 43,
     "metadata": {},
     "output_type": "execute_result"
    },
    {
     "data": {
      "image/png": "[encoded data removed]",
      "text/plain": [
       "<Figure size 576x432 with 1 Axes>"
      ]
     },
     "metadata": {},
     "output_type": "display_data"
    }
   ],
   "source": [
    "# Boxplot of Genre by ranking\n",
    "\n",
    "# Group by Genre, let ranking be a continuous variable\n",
    "barplot_genre_ranking = analysis_df.filter(['genres', 'averagerating'])\n",
    "\n",
    "df = barplot_genre_ranking.explode('genres').melt('genres').pivot_table(index='genres', columns='variable', \\\n",
    "                                                                        values='value', aggfunc='median')\n",
    "# Make barplot\n",
    "df.plot.bar(color = ['blue'])\n",
    "\n",
    "# Set Title\n",
    "plt.title('Median IMDb Ranking by Genre', fontdict={'fontsize': 15})\n",
    "\n",
    "# x-axis \n",
    "plt.xlabel('\\nGenre', fontsize = 12)\n",
    "plt.xticks(rotation = 45)\n",
    "\n",
    "# y-axis\n",
    "plt.ylabel('\\nIMDb Ranking', fontsize = 12)\n",
    "plt.ylim(ymin = 0, ymax = 10)\n",
    "\n",
    "# Legend\n",
    "plt.legend('')\n",
    "#plt.savefig('./img/fig/barplot_genre_ranking.png', bbox_inches = 'tight')"
   ]
  },
  {
   "cell_type": "markdown",
   "metadata": {},
   "source": [
    "#### Discussion\n",
    "The genres did not have much difference between them in regards to IMDb user ranking."
   ]
  },
  {
   "cell_type": "markdown",
   "metadata": {},
   "source": [
    "### What quarter of the year for movie release has the highest revenue?"
   ]
  },
  {
   "cell_type": "code",
   "execution_count": 44,
   "metadata": {},
   "outputs": [
    {
     "data": {
      "text/plain": [
       "<matplotlib.legend.Legend at 0x22ceea9a640>"
      ]
     },
     "execution_count": 44,
     "metadata": {},
     "output_type": "execute_result"
    },
    {
     "data": {
      "image/png": "[encoded data removed]",
      "text/plain": [
       "<Figure size 576x432 with 1 Axes>"
      ]
     },
     "metadata": {},
     "output_type": "display_data"
    }
   ],
   "source": [
    "# Box plot showing total box office revenue and profit with quarter of release\n",
    "\n",
    "# Extract necessary data: release_date, worldwide_gross\n",
    "barplot_quarter = analysis_df.filter(['release_date', 'worldwide_gross'])\n",
    "\n",
    "# convert release_date to quarter of the year\n",
    "barplot_quarter['release_date'] = barplot_quarter['release_date'].dt.quarter # replace date with quarter\n",
    "\n",
    "# remap the quarterly values according to dictionary\n",
    "quarter_dict = {1: 'Q1', 2: 'Q2', 3: 'Q3', 4: 'Q4'}\n",
    "barplot_quarter.replace({'release_date': quarter_dict}, inplace = True) \n",
    "\n",
    "# Make a new dataframe that finds the total worldwide gross revenue by quarter\n",
    "df1 = barplot_quarter.groupby('release_date')['worldwide_gross'].sum()\n",
    "\n",
    "# Extra necessary data: release_date, profit_estimate\n",
    "barplot_quarter_profit = analysis_df.filter(['release_date', 'profit_estimate'])\n",
    "\n",
    "# convert release_date to quarter of the year\n",
    "barplot_quarter_profit['release_date'] = barplot_quarter_profit['release_date'].dt.quarter # replace date with quarter\n",
    "quarter_dict = {1: 'Q1', 2: 'Q2', 3: 'Q3', 4: 'Q4'} # remap dictionary\n",
    "barplot_quarter_profit.replace({'release_date': quarter_dict}, inplace = True) # remap the quarterly values according to dictionary\n",
    "\n",
    "# Make a new dataframe that finds the total profit by quarter\n",
    "df2 = barplot_quarter_profit.groupby('release_date')['profit_estimate'].sum()\n",
    "\n",
    "# concatenate df1 and df2\n",
    "df3 = pd.concat([df1, df2], axis=1, join='inner')\n",
    "\n",
    "# Make the bar plot\n",
    "df3.plot.bar(color = ['blue', 'orange'])\n",
    "\n",
    "# Set Title\n",
    "plt.title('Worldwide Movie Revenue and Profit \\nby Quarterly Release Date', fontdict={'fontsize': 15})\n",
    "\n",
    "# x-axis \n",
    "plt.xlabel('Quarter of Year', fontsize = 12)\n",
    "plt.xticks(rotation = 0)\n",
    "\n",
    "# y-axis\n",
    "plt.ylabel('$USD', fontsize = 12)\n",
    "plt.ylim(ymin = 0, ymax = 70000000000)\n",
    "plt.gca().yaxis.set_major_formatter(plt.matplotlib.ticker.StrMethodFormatter('{x:,.0f}'))\n",
    "\n",
    "# Legend\n",
    "plt.legend(['Gross Revenue', 'Profit'])\n",
    "#plt.savefig('./img/fig/barplot_comp_quarter.png', bbox_inches = 'tight')"
   ]
  },
  {
   "cell_type": "markdown",
   "metadata": {},
   "source": [
    "#### Discussion\n",
    "Worldwide gross revenue is highest when movies are released in the second and fourth quarters of the year. This is during the time when people are on holiday and working less. They have time to go to movie theaters to see a movie."
   ]
  },
  {
   "cell_type": "markdown",
   "metadata": {},
   "source": [
    "### Does rankings of movies change by quarter of the year it is released?"
   ]
  },
  {
   "cell_type": "code",
   "execution_count": 45,
   "metadata": {},
   "outputs": [
    {
     "data": {
      "text/plain": [
       "(0.0, 10.0)"
      ]
     },
     "execution_count": 45,
     "metadata": {},
     "output_type": "execute_result"
    },
    {
     "data": {
      "image/png": "[encoded data removed]",
      "text/plain": [
       "<Figure size 576x432 with 1 Axes>"
      ]
     },
     "metadata": {},
     "output_type": "display_data"
    }
   ],
   "source": [
    "# Ranking by quarterly release\n",
    "## Reference: https://stackoverflow.com/a/40359047/1144724\n",
    "\n",
    "# Extract necessary data\n",
    "# Ranking (averagerating), datetime (release_date)\n",
    "boxplot_quarter_ranking = analysis_df.filter(['release_date', 'averagerating'])\n",
    "\n",
    "# Convert datetime to quarterly\n",
    "boxplot_quarter_ranking['release_date'] = boxplot_quarter_ranking['release_date'].dt.quarter # replace date with quarter\n",
    "quarter_dict = {1: 'Q1', 2: 'Q2', 3: 'Q3', 4: 'Q4'} # remap dictionary\n",
    "boxplot_quarter_ranking.replace({'release_date': quarter_dict}, inplace = True) # remap the quarterly values according to dictionary\n",
    "\n",
    "# Produce the boxplot\n",
    "box = boxplot_quarter_ranking.boxplot(column = 'averagerating', by='release_date', \\\n",
    "                                      notch = True, patch_artist=True, color = 'blue')\n",
    "# Set Title\n",
    "plt.suptitle('')\n",
    "plt.title('IMDb Movie Ranking \\nby Quarterly Release Date', fontdict={'fontsize': 15})\n",
    "\n",
    "# x-axis \n",
    "plt.xlabel('Quarter of Year', fontsize = 12)\n",
    "plt.xticks(rotation = 0)\n",
    "\n",
    "# y-axis\n",
    "plt.ylabel('IMDb Ranking', fontsize = 12)\n",
    "plt.ylim(ymin = 0, ymax = 10)\n",
    "\n",
    "# Save the boxplot to file\n",
    "#plt.savefig('./img/fig/boxplot_quarter_ranking.png', bbox_inches = 'tight')\n",
    "\n"
   ]
  },
  {
   "cell_type": "code",
   "execution_count": 46,
   "metadata": {},
   "outputs": [
    {
     "data": {
      "text/html": [
       "<div>\n",
       "<style scoped>\n",
       "    .dataframe tbody tr th:only-of-type {\n",
       "        vertical-align: middle;\n",
       "    }\n",
       "\n",
       "    .dataframe tbody tr th {\n",
       "        vertical-align: top;\n",
       "    }\n",
       "\n",
       "    .dataframe thead th {\n",
       "        text-align: right;\n",
       "    }\n",
       "</style>\n",
       "<table border=\"1\" class=\"dataframe\">\n",
       "  <thead>\n",
       "    <tr style=\"text-align: right;\">\n",
       "      <th></th>\n",
       "      <th>averagerating</th>\n",
       "    </tr>\n",
       "    <tr>\n",
       "      <th>release_date</th>\n",
       "      <th></th>\n",
       "    </tr>\n",
       "  </thead>\n",
       "  <tbody>\n",
       "    <tr>\n",
       "      <th>Q1</th>\n",
       "      <td>6.2</td>\n",
       "    </tr>\n",
       "    <tr>\n",
       "      <th>Q2</th>\n",
       "      <td>6.5</td>\n",
       "    </tr>\n",
       "    <tr>\n",
       "      <th>Q3</th>\n",
       "      <td>6.5</td>\n",
       "    </tr>\n",
       "    <tr>\n",
       "      <th>Q4</th>\n",
       "      <td>6.9</td>\n",
       "    </tr>\n",
       "  </tbody>\n",
       "</table>\n",
       "</div>"
      ],
      "text/plain": [
       "              averagerating\n",
       "release_date               \n",
       "Q1                      6.2\n",
       "Q2                      6.5\n",
       "Q3                      6.5\n",
       "Q4                      6.9"
      ]
     },
     "execution_count": 46,
     "metadata": {},
     "output_type": "execute_result"
    }
   ],
   "source": [
    "# print median of each quarter\n",
    "q_median_rank = boxplot_quarter_ranking.groupby('release_date').median()\n",
    "q_median_rank"
   ]
  },
  {
   "cell_type": "markdown",
   "metadata": {},
   "source": [
    "#### Discussion\n",
    "IMDb ranking of movies based on the quarter of the year they are released are all around 6.5 with Q1 being slightly lower and Q4 being slightly higher."
   ]
  },
  {
   "cell_type": "markdown",
   "metadata": {},
   "source": [
    "# Conclusion\n",
    "\n",
    "Microsoft is creating a new movie studio and wants to know what types of movies they should create to be successful. Success can be measured with the amount of profit that the movie makes and the reputation as measured in viewer ranking. Data is from the Internet Movie Database (IMDb), which contains IMDb user generated rankings, Box Office Mojo (BOM), which contains domestic and foreign revenue, and The Numbers (TNDB), that contains movie production budget. This data was cleaned and joined to provide analysis of 1,025 movies released betwen 2010 to 2018.\n",
    "\n",
    "To be successful, Microsoft needs to know what movie genres have the highest ranking and profit, when is the best time of the year to release a movie, and how much should be budgeted for these movies.\n",
    "\n",
    "My analysis shows that the average ranking of these movies is 6.5 out of 10 and does not change much between genres. Half of the movies in the analysis had worldwide gross revenue below \\\\$79 million and a production budget below \\\\$30 million. Action, adventure, animation, and science fiction were the top grossing genres with median worldwide box office revenue greater than \\\\$100 million. They also had higher produciton budgets as compared to other genres. The 2nd and 4th quarters are associated with higher revenue. This because less people are working or going to school during these times.\n",
    "\n",
    "Based on this analysis, I recommend that Microsoft focus on action, adventure, animation, and science-fiction movies. They should plan to releaes these movies during the second and fourth quarter of the year and should plan to budget between \\\\$60 million to \\\\$100 million on producing each movie."
   ]
  }
 ],
 "metadata": {
  "kernelspec": {
   "display_name": "Python 3 (ipykernel)",
   "language": "python",
   "name": "python3"
  },
  "language_info": {
   "codemirror_mode": {
    "name": "ipython",
    "version": 3
   },
   "file_extension": ".py",
   "mimetype": "text/x-python",
   "name": "python",
   "nbconvert_exporter": "python",
   "pygments_lexer": "ipython3",
   "version": "3.9.7"
  }
 },
 "nbformat": 4,
 "nbformat_minor": 2
}
